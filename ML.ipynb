{
  "nbformat": 4,
  "nbformat_minor": 0,
  "metadata": {
    "colab": {
      "name": "ML.ipynb",
      "version": "0.3.2",
      "provenance": [],
      "collapsed_sections": [],
      "include_colab_link": true
    },
    "kernelspec": {
      "name": "python3",
      "display_name": "Python 3"
    }
  },
  "cells": [
    {
      "cell_type": "markdown",
      "metadata": {
        "id": "view-in-github",
        "colab_type": "text"
      },
      "source": [
        "<a href=\"https://colab.research.google.com/github/sanjanadc/ML_python/blob/master/ML.ipynb\" target=\"_parent\"><img src=\"https://colab.research.google.com/assets/colab-badge.svg\" alt=\"Open In Colab\"/></a>"
      ]
    },
    {
      "cell_type": "code",
      "metadata": {
        "id": "xqgz3sWZ273h",
        "colab_type": "code",
        "outputId": "ff776ff3-6617-4a42-fdf1-90f6c5cd7d3e",
        "colab": {
          "base_uri": "https://localhost:8080/",
          "height": 34
        }
      },
      "source": [
        "print (\"hello world\");\n",
        "\n",
        "\n",
        "\n",
        "\n",
        "\n",
        "\n",
        "\n"
      ],
      "execution_count": 1,
      "outputs": [
        {
          "output_type": "stream",
          "text": [
            "hello world\n"
          ],
          "name": "stdout"
        }
      ]
    },
    {
      "cell_type": "code",
      "metadata": {
        "id": "jEJMflyK28h1",
        "colab_type": "code",
        "outputId": "bd5f19b2-9b29-4862-db76-3d69460c7474",
        "colab": {
          "base_uri": "https://localhost:8080/",
          "height": 50
        }
      },
      "source": [
        "import numpy as np\n",
        "L1 = [2,4,6,8,10]\n",
        "L2 = [1,3,5,7,9]\n",
        "print (np.add(L1,L2));\n",
        "san = np.array([2,4,6,8,10])\n",
        "print (san * 2);\n",
        "\n"
      ],
      "execution_count": 2,
      "outputs": [
        {
          "output_type": "stream",
          "text": [
            "[ 3  7 11 15 19]\n",
            "[ 4  8 12 16 20]\n"
          ],
          "name": "stdout"
        }
      ]
    },
    {
      "cell_type": "code",
      "metadata": {
        "id": "oLe3Pwho65vn",
        "colab_type": "code",
        "outputId": "168a0ea4-f8ae-4a00-cf26-7bfb5cdcf7b7",
        "colab": {
          "base_uri": "https://localhost:8080/",
          "height": 246
        }
      },
      "source": [
        "angle = list(range(0,360,30))\n",
        "print(angle);\n",
        "i1 = index.angle[90]\n",
        "i2 = angle[270]\n",
        "i1_rev = len(angle)-9\n",
        "i2_rev = len(angle)-3\n",
        "new =  angle[3:10][::-1]\n",
        "print(new)\n",
        "\n"
      ],
      "execution_count": 3,
      "outputs": [
        {
          "output_type": "stream",
          "text": [
            "[0, 30, 60, 90, 120, 150, 180, 210, 240, 270, 300, 330]\n"
          ],
          "name": "stdout"
        },
        {
          "output_type": "error",
          "ename": "NameError",
          "evalue": "ignored",
          "traceback": [
            "\u001b[0;31m---------------------------------------------------------------------------\u001b[0m",
            "\u001b[0;31mNameError\u001b[0m                                 Traceback (most recent call last)",
            "\u001b[0;32m<ipython-input-3-d579cbe7b6fe>\u001b[0m in \u001b[0;36m<module>\u001b[0;34m()\u001b[0m\n\u001b[1;32m      1\u001b[0m \u001b[0mangle\u001b[0m \u001b[0;34m=\u001b[0m \u001b[0mlist\u001b[0m\u001b[0;34m(\u001b[0m\u001b[0mrange\u001b[0m\u001b[0;34m(\u001b[0m\u001b[0;36m0\u001b[0m\u001b[0;34m,\u001b[0m\u001b[0;36m360\u001b[0m\u001b[0;34m,\u001b[0m\u001b[0;36m30\u001b[0m\u001b[0;34m)\u001b[0m\u001b[0;34m)\u001b[0m\u001b[0;34m\u001b[0m\u001b[0;34m\u001b[0m\u001b[0m\n\u001b[1;32m      2\u001b[0m \u001b[0mprint\u001b[0m\u001b[0;34m(\u001b[0m\u001b[0mangle\u001b[0m\u001b[0;34m)\u001b[0m\u001b[0;34m;\u001b[0m\u001b[0;34m\u001b[0m\u001b[0;34m\u001b[0m\u001b[0m\n\u001b[0;32m----> 3\u001b[0;31m \u001b[0mi1\u001b[0m \u001b[0;34m=\u001b[0m \u001b[0mindex\u001b[0m\u001b[0;34m.\u001b[0m\u001b[0mangle\u001b[0m\u001b[0;34m[\u001b[0m\u001b[0;36m90\u001b[0m\u001b[0;34m]\u001b[0m\u001b[0;34m\u001b[0m\u001b[0;34m\u001b[0m\u001b[0m\n\u001b[0m\u001b[1;32m      4\u001b[0m \u001b[0mi2\u001b[0m \u001b[0;34m=\u001b[0m \u001b[0mangle\u001b[0m\u001b[0;34m[\u001b[0m\u001b[0;36m270\u001b[0m\u001b[0;34m]\u001b[0m\u001b[0;34m\u001b[0m\u001b[0;34m\u001b[0m\u001b[0m\n\u001b[1;32m      5\u001b[0m \u001b[0mi1_rev\u001b[0m \u001b[0;34m=\u001b[0m \u001b[0mlen\u001b[0m\u001b[0;34m(\u001b[0m\u001b[0mangle\u001b[0m\u001b[0;34m)\u001b[0m\u001b[0;34m-\u001b[0m\u001b[0;36m9\u001b[0m\u001b[0;34m\u001b[0m\u001b[0;34m\u001b[0m\u001b[0m\n",
            "\u001b[0;31mNameError\u001b[0m: name 'index' is not defined"
          ]
        }
      ]
    },
    {
      "cell_type": "code",
      "metadata": {
        "id": "auj0rBKld9Jd",
        "colab_type": "code",
        "colab": {}
      },
      "source": [
        "L1 = [1, 2, 3]\n",
        "L2 = L1\n",
        "print(L2)\n",
        "L2.remove(3)\n",
        "print(L2)\n",
        "L1\n",
        "L4 = L1.copy()\n",
        "L3=L1[:]\n",
        "\n",
        "\n",
        "\n",
        "\n"
      ],
      "execution_count": 0,
      "outputs": []
    },
    {
      "cell_type": "code",
      "metadata": {
        "id": "eOsoTfWOoojF",
        "colab_type": "code",
        "colab": {}
      },
      "source": [
        "tup1 = (12, 34);\n",
        "tup2 = ('abc', 'xyz');\n",
        "\n",
        "\n",
        "tup3 = tup1 + tup2;\n",
        "print(tup3)\n",
        "\n",
        "tup3.remove(12)\n",
        "\n",
        "\n"
      ],
      "execution_count": 0,
      "outputs": []
    },
    {
      "cell_type": "code",
      "metadata": {
        "id": "6OnpIIwnyIt0",
        "colab_type": "code",
        "colab": {}
      },
      "source": [
        "states = {'AP': [100, 'HYD',False], 'Assam':[200,'dispur', False], 'Bihar' : [200,'patna',True]}\n",
        "\n",
        "print(states.get('Bihar'))\n",
        "states['telangana']= ['hyd', True]\n",
        "print(states)"
      ],
      "execution_count": 0,
      "outputs": []
    },
    {
      "cell_type": "code",
      "metadata": {
        "id": "-QQd-aDP-urV",
        "colab_type": "code",
        "colab": {}
      },
      "source": [
        "def deg_rad(angle):\n",
        "  radian = angle*(3.14/180)\n",
        "  return radian\n",
        "\n",
        "deg_rad(360)\n"
      ],
      "execution_count": 0,
      "outputs": []
    },
    {
      "cell_type": "code",
      "metadata": {
        "id": "GBpPb87eBuV1",
        "colab_type": "code",
        "colab": {}
      },
      "source": [
        "import numpy as np\n",
        "import tensorflow as tf"
      ],
      "execution_count": 0,
      "outputs": []
    },
    {
      "cell_type": "code",
      "metadata": {
        "id": "NKbklD_Xnk8_",
        "colab_type": "code",
        "colab": {}
      },
      "source": [
        "import pytorch \n"
      ],
      "execution_count": 0,
      "outputs": []
    },
    {
      "cell_type": "code",
      "metadata": {
        "id": "LgjZzo7hhQb8",
        "colab_type": "code",
        "colab": {}
      },
      "source": [
        "#convert angles to radiance\n",
        "for a in [30, 60,90,120,150,180]:\n",
        "  x = a * (3.14/180)\n",
        "  print(x)\n",
        "  "
      ],
      "execution_count": 0,
      "outputs": []
    },
    {
      "cell_type": "code",
      "metadata": {
        "id": "wXI5FUHFo0Im",
        "colab_type": "code",
        "colab": {}
      },
      "source": [
        "import numpy as np\n",
        "\n",
        "a = np.array([1,2,3])\n",
        "b = np.array([[1,2,3],[4,5,6]])\n",
        "c = np.zeros([3,9])\n",
        "d = np.eye(3)\n",
        "print(a)\n",
        "print(b)\n",
        "print(c)\n",
        "print(d)\n",
        "print(b.shape)\n",
        "print(len(a))\n",
        "print(b.ndim)\n",
        "print(b.size)\n",
        "print(b.dtype)\n",
        "b = b.astype(float)\n",
        "b.dtype"
      ],
      "execution_count": 0,
      "outputs": []
    },
    {
      "cell_type": "code",
      "metadata": {
        "id": "RL8KooW9-U92",
        "colab_type": "code",
        "colab": {}
      },
      "source": [
        ""
      ],
      "execution_count": 0,
      "outputs": []
    },
    {
      "cell_type": "code",
      "metadata": {
        "id": "sJhAMa3FreRY",
        "colab_type": "code",
        "colab": {}
      },
      "source": [
        "from sklearn import datasets\n",
        "iris = datasets.load_iris()\n",
        "x = iris.data\n",
        "print(x.shape)"
      ],
      "execution_count": 0,
      "outputs": []
    },
    {
      "cell_type": "code",
      "metadata": {
        "id": "L_4IqedM20Dc",
        "colab_type": "code",
        "colab": {}
      },
      "source": [
        "from google.colab import files\n",
        "uploaded = files.upload()\n",
        "                 \n",
        "                 "
      ],
      "execution_count": 0,
      "outputs": []
    },
    {
      "cell_type": "code",
      "metadata": {
        "id": "E3t34WOX5DeA",
        "colab_type": "code",
        "colab": {}
      },
      "source": [
        "import pandas as pd\n",
        "df = pd.read_csv('matches.csv')\n",
        "print(df.shape)\n",
        "print(df.columns)\n",
        "print(list(df.index)[ : 10])\n",
        "df.head(10)"
      ],
      "execution_count": 0,
      "outputs": []
    },
    {
      "cell_type": "code",
      "metadata": {
        "id": "dJfw3M8w-XX3",
        "colab_type": "code",
        "colab": {}
      },
      "source": [
        "import pandas as pd\n",
        "df = pd.read_csv('matches.csv')\n",
        "df[df['city']=='Bangalore']['winner']\n",
        "df[df['season'].isin([2008,2015,2009])][['season','toss_winner']]\n",
        "\n",
        "df['winner'].value_counts()\n",
        "df['winner'].isnull().sum()"
      ],
      "execution_count": 0,
      "outputs": []
    },
    {
      "cell_type": "code",
      "metadata": {
        "id": "qic0-hFICuIV",
        "colab_type": "code",
        "colab": {}
      },
      "source": [
        "import pandas as pd\n",
        "df = pd.read_csv('matches.csv')\n",
        "df.reset_index(inplace=True)\n",
        "df.set_index('date',inplace=True)\n",
        "df.iloc[0: 10]\n",
        "df.loc['5/1/2008']"
      ],
      "execution_count": 0,
      "outputs": []
    },
    {
      "cell_type": "code",
      "metadata": {
        "id": "mPxRiQ-KFub5",
        "colab_type": "code",
        "colab": {}
      },
      "source": [
        "df['city'].fillna('bifill', inplace=True)\n",
        "df.isnull().sum()"
      ],
      "execution_count": 0,
      "outputs": []
    },
    {
      "cell_type": "code",
      "metadata": {
        "id": "R6Iyx858WR2t",
        "colab_type": "code",
        "colab": {}
      },
      "source": [
        "df1 = pd.DataFrame({'metal': ['steel', 'copper','iron'], 'YM':[200, 100, 250],'ductile':['True','False','True']}, index = ['m1','m2','m3'])\n",
        "\n",
        "df1.ix['m4']=['FE',200, 'True']\n",
        "print(df1)\n",
        "df2 = df1.drop('m4', axis = 0)\n",
        "print(df2)\n"
      ],
      "execution_count": 0,
      "outputs": []
    },
    {
      "cell_type": "code",
      "metadata": {
        "id": "6Bb9RNJ9jFLW",
        "colab_type": "code",
        "colab": {}
      },
      "source": [
        ""
      ],
      "execution_count": 0,
      "outputs": []
    },
    {
      "cell_type": "code",
      "metadata": {
        "id": "0uc6EUhhYRtk",
        "colab_type": "code",
        "colab": {}
      },
      "source": [
        "df2 = pd.DataFrame({'uts (MPA)': [100,300,200],'metal': ['steel', 'copper','iron'], 'YM':[200, 100, 250],'ductile':['True','False','True']}, index = ['me1','me2','me3'])\n",
        "\n",
        "df1 = pd.DataFrame({'metal': ['steel', 'copper','iron'], 'YM':[200, 100, 250],'ductile':['True','False','True']}, index = ['m1','m2','m3'])\n",
        "\n",
        "\n",
        "pd.concat([df2,df1])\n",
        "print(df2)\n",
        "print(df1)\n",
        "\n",
        "pd.merge(df1,df2, on='metal', how= 'outer')\n"
      ],
      "execution_count": 0,
      "outputs": []
    },
    {
      "cell_type": "code",
      "metadata": {
        "id": "wCEfADzGoYXV",
        "colab_type": "code",
        "colab": {}
      },
      "source": [
        "from google.colab import files\n",
        "uploaded = files.upload()"
      ],
      "execution_count": 0,
      "outputs": []
    },
    {
      "cell_type": "code",
      "metadata": {
        "id": "zbz6J7P2o4Kt",
        "colab_type": "code",
        "colab": {}
      },
      "source": [
        "import pandas as pd\n",
        "import numpy as np\n",
        "import matplotlib.pyplot as plt\n",
        "import seaborn as sns\n",
        "import statsmodels.api as sm\n"
      ],
      "execution_count": 0,
      "outputs": []
    },
    {
      "cell_type": "code",
      "metadata": {
        "id": "T-YiWTxkx_LC",
        "colab_type": "code",
        "colab": {}
      },
      "source": [
        "import pandas as pd\n",
        "import numpy as np\n",
        "import matplotlib.pyplot as plt\n",
        "import seaborn as sns\n",
        "import statsmodels.api as sm\n",
        "\n",
        "cars = sm.datasets.get_rdataset('mtcars').data\n",
        "print(cars.head(4).T)\n",
        "print(cars.info()) \n",
        "corelation = -cov(x,y)/(sd(x)*sd(y))\n",
        "sns.regplot(x=cars.mpg, y = cars.wt, ci = 95)\n",
        "corcoef = np.corrcoef(cars.mpg, cars.wt)[0,1]\n",
        "text_cc = '\\n\\n\\n correlation coefficient is %1.4f'% corcoef\n",
        "plt.title('scatter plot MPG vs Weight')\n",
        "plt.suptitle(text_cc)\n",
        "plt.gcf().tight_layout()\n",
        "\n",
        "sns.heatmap(cars.corr(), cmap = \"BuGn\")\n",
        "plt.show()\n"
      ],
      "execution_count": 0,
      "outputs": []
    },
    {
      "cell_type": "code",
      "metadata": {
        "id": "9KyRJaYa_QNn",
        "colab_type": "code",
        "colab": {}
      },
      "source": [
        "import statsmodels.api as sm\n",
        "X = cars.wt\n",
        "Y = cars.mpg\n",
        "\n",
        "X = sm.add_constant(X)\n",
        "model = sm.OLS(Y, X).fit()\n",
        "predictions = model.predict(X)\n",
        "\n",
        "model.summary()"
      ],
      "execution_count": 0,
      "outputs": []
    },
    {
      "cell_type": "code",
      "metadata": {
        "id": "o4hWNLm4E7y0",
        "colab_type": "code",
        "colab": {}
      },
      "source": [
        "new_x = [1, 3]\n",
        "\n",
        "predictions = model.predict(new_x)\n",
        "print('predicted mpg of car with weight %d(000lbs) is %2.2f'% (3.0, np.round(predictions, 3)))"
      ],
      "execution_count": 0,
      "outputs": []
    },
    {
      "cell_type": "code",
      "metadata": {
        "id": "5Aw5dEroHljB",
        "colab_type": "code",
        "colab": {}
      },
      "source": [
        "from sklearn import linear_model\n",
        "new_x = [1, 3]\n",
        "\n",
        "\n",
        "X = np.array(Y).reshape(-1, 1)\n",
        "Y = cars.mpg\n",
        "lm = linear_model.LinearRegression()\n",
        "model = lm.fit(X,Y)\n",
        "\n",
        "predections = lm.predict(X)\n",
        "print('R square is %1.3f'% lm.score(X,Y))\n",
        "\n"
      ],
      "execution_count": 0,
      "outputs": []
    },
    {
      "cell_type": "code",
      "metadata": {
        "id": "z6pgoUUMQ94o",
        "colab_type": "code",
        "colab": {}
      },
      "source": [
        "import statsmodels.api as sm\n",
        "X = cars.disp\n",
        "Y = cars.mpg\n",
        "\n",
        "X = sm.add_constant(X)\n",
        "model = sm.OLS(Y, X).fit()\n",
        "predictions = model.predict(X)\n",
        "\n",
        "model.summary()"
      ],
      "execution_count": 0,
      "outputs": []
    },
    {
      "cell_type": "code",
      "metadata": {
        "id": "CMkqIpytPkmA",
        "colab_type": "code",
        "colab": {}
      },
      "source": [
        "import statsmodels.api as sm\n",
        "X = cars.disp\n",
        "Y = cars.mpg\n",
        "\n",
        "X = sm.add_constant(X)\n",
        "model = sm.OLS(Y, X).fit()\n",
        "predictions = model.predict(X)\n",
        "\n",
        "model.summary()"
      ],
      "execution_count": 0,
      "outputs": []
    },
    {
      "cell_type": "code",
      "metadata": {
        "id": "Kr6owOExRKgY",
        "colab_type": "code",
        "colab": {}
      },
      "source": [
        "import scipy.stats as stats\n",
        "import matplotlib.pyplot as plt\n",
        "import statsmodels.api as sm\n",
        "\n",
        "X = cars[[\"wt\",\"disp\", \"drat\", \"am\", \"gear\"]]\n",
        "Y = cars.mpg\n",
        "\n",
        "X = sm.add_constant(X)  #add intercept\n",
        "print(X)\n"
      ],
      "execution_count": 0,
      "outputs": []
    },
    {
      "cell_type": "code",
      "metadata": {
        "id": "fYflkZyaTXOE",
        "colab_type": "code",
        "colab": {}
      },
      "source": [
        "from sklearn import linear_model\n",
        "new_x = [1, 3]\n",
        "\n",
        "\n",
        "#X = cars[[\"wt\",\"disp\", \"drat\", \"am\", \"gear\"]]\n",
        "X = cars[[\"wt\", \"drat\", \"am\", \"gear\",\"cyl\",\"hp\",\"qsec\",\"vs\"]]\n",
        "Y = cars.mpg\n",
        "\n",
        "lm = linear_model.LinearRegression()\n",
        "model = lm.fit(X,Y)\n",
        "\n",
        "predections = lm.predict(X)\n",
        "print('R square is %1.3f'% lm.score(X,Y))\n"
      ],
      "execution_count": 0,
      "outputs": []
    },
    {
      "cell_type": "code",
      "metadata": {
        "id": "FTT_eAupzC8e",
        "colab_type": "code",
        "colab": {}
      },
      "source": [
        "import statsmodels.api as sm\n",
        "#X = cars[[\"wt\",\"disp\", \"drat\", \"am\", \"gear\",\"cyl\",\"hp\",\"qsec\",\"vs\", \"carb\"]]\n",
        "X = cars[[\"wt\",\"disp\", \"drat\", \"am\", \"gear\",\"cyl\",\"hp\",\"qsec\",\"vs\", \"carb\"]]\n",
        "Y = cars.mpg\n",
        "\n",
        "X = sm.add_constant(X)\n",
        "model = sm.OLS(Y, X).fit()\n",
        "predictions = model.predict(X)\n",
        "\n",
        "model.summary()"
      ],
      "execution_count": 0,
      "outputs": []
    },
    {
      "cell_type": "code",
      "metadata": {
        "id": "ObabaBZIAQPT",
        "colab_type": "code",
        "colab": {
          "resources": {
            "http://localhost:8080/nbextensions/google.colab/files.js": {
              "data": "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",
              "ok": true,
              "headers": [
                [
                  "content-type",
                  "application/javascript"
                ]
              ],
              "status": 200,
              "status_text": ""
            }
          },
          "base_uri": "https://localhost:8080/",
          "height": 74
        },
        "outputId": "99a23156-a72c-46a9-a278-fb1d5042752e"
      },
      "source": [
        "from google.colab import files\n",
        "uploaded = files.upload()"
      ],
      "execution_count": 7,
      "outputs": [
        {
          "output_type": "display_data",
          "data": {
            "text/html": [
              "\n",
              "     <input type=\"file\" id=\"files-2ea27a6a-7ea1-46ce-95ca-f1bb5656fdb3\" name=\"files[]\" multiple disabled />\n",
              "     <output id=\"result-2ea27a6a-7ea1-46ce-95ca-f1bb5656fdb3\">\n",
              "      Upload widget is only available when the cell has been executed in the\n",
              "      current browser session. Please rerun this cell to enable.\n",
              "      </output>\n",
              "      <script src=\"/nbextensions/google.colab/files.js\"></script> "
            ],
            "text/plain": [
              "<IPython.core.display.HTML object>"
            ]
          },
          "metadata": {
            "tags": []
          }
        },
        {
          "output_type": "stream",
          "text": [
            "Saving loans_imputed.csv to loans_imputed (4).csv\n"
          ],
          "name": "stdout"
        }
      ]
    },
    {
      "cell_type": "markdown",
      "metadata": {
        "id": "-ZCZqyfD6eNm",
        "colab_type": "text"
      },
      "source": [
        "variance inflation factor - checks multicolinearity across data\n"
      ]
    },
    {
      "cell_type": "code",
      "metadata": {
        "id": "OngrsX4PATz2",
        "colab_type": "code",
        "colab": {}
      },
      "source": [
        "from statsmodels.stats.outliers_influence import variance_inflation_factor\n",
        "\n",
        "df = pd.read_csv('concrete.csv')\n",
        "\n",
        "[variance_inflation_factor(X.values, j) for j in range(1, X.shape[1])]\n",
        "\n",
        "\n",
        "\n"
      ],
      "execution_count": 0,
      "outputs": []
    },
    {
      "cell_type": "code",
      "metadata": {
        "id": "Innr0Ru6Cn5q",
        "colab_type": "code",
        "colab": {}
      },
      "source": [
        "from statsmodels.stats.outliers_influence import variance_inflation_factor\n",
        "import statsmodels.api as sm\n",
        "\n",
        "cement_df = pd.read_csv('concrete.csv')\n",
        "\n",
        "X = cement_df[[\"cement\", \"slag\",\"water\", \"ash\" ,\"age\"]]\n",
        "Y = cement_df.strength\n",
        "print(X.head())\n",
        "\n",
        "X = sm.add_constant(X)\n",
        "model = sm.OLS(Y, X).fit()\n",
        "predictions = model.predict(X)\n",
        "print(model.summary())\n",
        "\n",
        "\n",
        "\n",
        "\n"
      ],
      "execution_count": 0,
      "outputs": []
    },
    {
      "cell_type": "code",
      "metadata": {
        "id": "5SgbUxW1FnXj",
        "colab_type": "code",
        "colab": {}
      },
      "source": [
        "from statsmodels.stats.outliers_influence import variance_inflation_factor\n",
        "import statsmodels.api as sm\n",
        "\n",
        "cement_df = pd.read_csv('concrete.csv')\n",
        "\n",
        "X = cement_df[[\"ash\"]]\n",
        "Y = cement_df.strength\n",
        "print(X.head())\n",
        "\n",
        "X = sm.add_constant(X)\n",
        "model = sm.OLS(Y, X).fit()\n",
        "predictions = model.predict(X)\n",
        "print(model.summary())\n",
        "\n",
        "[variance_inflation_factor(X.values, j) for j in range(0, X.shape[1])]\n"
      ],
      "execution_count": 0,
      "outputs": []
    },
    {
      "cell_type": "code",
      "metadata": {
        "id": "-teY6qtQHarh",
        "colab_type": "code",
        "colab": {}
      },
      "source": [
        "import numpy as np\n",
        "x =np.array([[1, 2, 3], [4,5,6]])\n",
        "y =x.shape\n",
        "print(y)"
      ],
      "execution_count": 0,
      "outputs": []
    },
    {
      "cell_type": "code",
      "metadata": {
        "id": "F7ePSm1XIi1G",
        "colab_type": "code",
        "colab": {}
      },
      "source": [
        "x.shape[1]"
      ],
      "execution_count": 0,
      "outputs": []
    },
    {
      "cell_type": "markdown",
      "metadata": {
        "id": "05n6tHOoghb_",
        "colab_type": "text"
      },
      "source": [
        "logit/ sigmoid \n",
        "\n",
        "logistic regression - \n",
        "logit_model - stats model"
      ]
    },
    {
      "cell_type": "code",
      "metadata": {
        "id": "xesqL-e9i9uX",
        "colab_type": "code",
        "colab": {}
      },
      "source": [
        "from google.colab import files\n",
        "uploaded = files.upload()"
      ],
      "execution_count": 0,
      "outputs": []
    },
    {
      "cell_type": "code",
      "metadata": {
        "id": "Ck0x8x2aj2QP",
        "colab_type": "code",
        "colab": {}
      },
      "source": [
        "import pandas as pd\n",
        "import numpy as np\n",
        "from sklearn.linear_model import LogisticRegression\n",
        "\n",
        "\n",
        "Ds = pd.read_csv('wisc_bc_data.csv')\n",
        "X = Ds[[\"id\",\"radius_mean\",\"texture_mean\",\"perimeter_mean\",\"area_mean\",\"smoothness_mean\",\"compactness_mean\",\"concavity_mean\",\"points_mean\",\"symmetry_mean\",\"dimension_mean\",\"radius_se\",\"texture_se\",\"perimeter_se\",\"area_se\",\"smoothness_se\",\"compactness_se\",\"concavity_se\",\"points_se\",\"symmetry_se\",\"dimension_se\",\"radius_worst\",\t\"texture_worst\",\t\"perimeter_worst\",\"area_worst\",\"smoothness_worst\",\"compactness_worst\",\"concavity_worst\",\"points_worst\",\"symmetry_worst\",\"dimension_worst\"]]\n",
        "Y = Ds.diagnosis\n",
        "\n",
        "X.shape\n",
        "\n",
        "#print(Ds.head().T)\n"
      ],
      "execution_count": 0,
      "outputs": []
    },
    {
      "cell_type": "code",
      "metadata": {
        "id": "QgbZrD79v3-8",
        "colab_type": "code",
        "colab": {}
      },
      "source": [
        "import pandas as pd\n",
        "import numpy as np\n",
        "from sklearn.linear_model import LogisticRegression\n",
        "\n",
        "\n",
        "Ds = pd.read_csv('wisc_bc_data.csv')\n",
        "X = []\n",
        "for row in Ds:\n",
        "  X.append(row.split()[0]) \n",
        "X.remove(\"id\")\n",
        "X.remove(\"diagnosis\")\n",
        "\n",
        "z=Ds[\"diagnosis\"].map({'B':'0','M':'1'})\n",
        "\n",
        "\n",
        "x = Ds[X]\n",
        "y = Ds[\"diagnosis\"]\n",
        "lm = LogisticRegression()\n",
        "model = lm.fit(x,y)\n",
        "\n",
        "predections = lm.predict(x)\n",
        "print(lm.score(x,y))\n",
        "\n",
        "from sklearn.metrics import precision_score\n",
        "from sklearn.metrics import accuracy_score\n",
        "from sklearn.metrics import f1_score\n",
        "from sklearn.metrics import recall_score\n",
        "from sklearn.metrics import confusion_matrix\n",
        "\n",
        "accuracy = accuracy_score(predections, Y)\n",
        "print(accuracy)\n",
        "\n",
        "con = confusion_matrix(Y, predections)\n",
        "print(con)\n",
        "\n",
        "pre = precision_score(Y, predections,average=None)\n",
        "print(pre)\n",
        "\n",
        "recall = recall_score(Y, predections,average=None)\n",
        "print(recall)\n",
        "\n",
        "f1 = f1_score(Y, predections,average=None)\n",
        "print(f1)\n"
      ],
      "execution_count": 0,
      "outputs": []
    },
    {
      "cell_type": "code",
      "metadata": {
        "id": "973wPyvhzOA2",
        "colab_type": "code",
        "outputId": "7469b0f1-db34-404f-a300-ada183218a62",
        "colab": {
          "base_uri": "https://localhost:8080/",
          "height": 3209
        }
      },
      "source": [
        "import pandas as pd\n",
        "import numpy as np\n",
        "from sklearn.linear_model import LogisticRegression\n",
        "\n",
        "data =pd.read_csv('loans_imputed.csv') \n",
        "print(data)\n",
        "\n",
        "\n"
      ],
      "execution_count": 12,
      "outputs": [
        {
          "output_type": "stream",
          "text": [
            "      credit.policy             purpose  int.rate  installment  \\\n",
            "0                 1  debt_consolidation    0.1189       829.10   \n",
            "1                 1         credit_card    0.1071       228.22   \n",
            "2                 1  debt_consolidation    0.1357       366.86   \n",
            "3                 1  debt_consolidation    0.1008       162.34   \n",
            "4                 1         credit_card    0.1426       102.92   \n",
            "5                 1         credit_card    0.0788       125.13   \n",
            "6                 1  debt_consolidation    0.1496       194.02   \n",
            "7                 1           all_other    0.1114       131.22   \n",
            "8                 1    home_improvement    0.1134        87.19   \n",
            "9                 1  debt_consolidation    0.1221        84.12   \n",
            "10                1  debt_consolidation    0.1347       360.43   \n",
            "11                1  debt_consolidation    0.1324       253.58   \n",
            "12                1  debt_consolidation    0.0859       316.11   \n",
            "13                1      small_business    0.0714        92.82   \n",
            "14                1  debt_consolidation    0.0863       209.54   \n",
            "15                1      major_purchase    0.1103       327.53   \n",
            "16                1           all_other    0.1317        77.69   \n",
            "17                1         credit_card    0.0894       476.58   \n",
            "18                1  debt_consolidation    0.1039       584.12   \n",
            "19                1      major_purchase    0.1513       173.65   \n",
            "20                1           all_other    0.0800       188.02   \n",
            "21                1           all_other    0.0863       474.42   \n",
            "22                1         credit_card    0.1355       339.60   \n",
            "23                1         credit_card    0.0788       484.85   \n",
            "24                1  debt_consolidation    0.1229       320.19   \n",
            "25                1           all_other    0.0901       159.03   \n",
            "26                1           all_other    0.0743       155.38   \n",
            "27                1  debt_consolidation    0.1375       255.43   \n",
            "28                1           all_other    0.0743       155.38   \n",
            "29                1           all_other    0.0743       155.38   \n",
            "...             ...                 ...       ...          ...   \n",
            "9548              0    home_improvement    0.1607        87.99   \n",
            "9549              0    home_improvement    0.2164       729.70   \n",
            "9550              0           all_other    0.1459       137.86   \n",
            "9551              0    home_improvement    0.1348       508.87   \n",
            "9552              0  debt_consolidation    0.1311       337.45   \n",
            "9553              0  debt_consolidation    0.1385       545.67   \n",
            "9554              0      small_business    0.1533       870.71   \n",
            "9555              0    home_improvement    0.1311       674.90   \n",
            "9556              0  debt_consolidation    0.1385       136.42   \n",
            "9557              0         credit_card    0.1025       466.35   \n",
            "9558              0  debt_consolidation    0.1533       696.57   \n",
            "9559              0         credit_card    0.1273       688.11   \n",
            "9560              0           all_other    0.1867       547.36   \n",
            "9561              0           all_other    0.0788       115.74   \n",
            "9562              0  debt_consolidation    0.1348       508.87   \n",
            "9563              0  debt_consolidation    0.1099       556.50   \n",
            "9564              0           all_other    0.1385       511.56   \n",
            "9565              0           all_other    0.1459       396.35   \n",
            "9566              0           all_other    0.2164       551.08   \n",
            "9567              0           all_other    0.1311       101.24   \n",
            "9568              0           all_other    0.1979        37.06   \n",
            "9569              0    home_improvement    0.1426       823.34   \n",
            "9570              0           all_other    0.1671       113.63   \n",
            "9571              0           all_other    0.1568       161.01   \n",
            "9572              0  debt_consolidation    0.1565        69.98   \n",
            "9573              0           all_other    0.1461       344.76   \n",
            "9574              0           all_other    0.1253       257.70   \n",
            "9575              0  debt_consolidation    0.1071        97.81   \n",
            "9576              0    home_improvement    0.1600       351.58   \n",
            "9577              0  debt_consolidation    0.1392       853.43   \n",
            "\n",
            "      log.annual.inc    dti  fico  days.with.cr.line  revol.bal  revol.util  \\\n",
            "0          11.350407  19.48   737        5639.958333      28854        52.1   \n",
            "1          11.082143  14.29   707        2760.000000      33623        76.7   \n",
            "2          10.373491  11.63   682        4710.000000       3511        25.6   \n",
            "3          11.350407   8.10   712        2699.958333      33667        73.2   \n",
            "4          11.299732  14.97   667        4066.000000       4740        39.5   \n",
            "5          11.904968  16.98   727        6120.041667      50807        51.0   \n",
            "6          10.714418   4.00   667        3180.041667       3839        76.8   \n",
            "7          11.002100  11.08   722        5116.000000      24220        68.6   \n",
            "8          11.407565  17.25   682        3989.000000      69909        51.1   \n",
            "9          10.203592  10.00   707        2730.041667       5630        23.0   \n",
            "10         10.434116  22.09   677        6713.041667      13846        71.0   \n",
            "11         11.835009   9.16   662        4298.000000       5122        18.2   \n",
            "12         10.933107  15.49   767        6519.958333       6068        16.7   \n",
            "13         11.512925   6.50   747        4384.000000       3021         4.8   \n",
            "14          9.487972   9.73   727        1559.958333       6282        44.6   \n",
            "15         10.738915  13.04   702        8159.958333       5394        53.4   \n",
            "16         10.522773   2.26   672        3895.958333       2211        88.4   \n",
            "17         11.608236   7.07   797        6510.958333       7586        52.7   \n",
            "18         10.491274   3.80   712        2760.000000       8311        59.8   \n",
            "19         11.002100   2.74   667        1126.958333        591        84.4   \n",
            "20         11.225243  16.08   772        4888.958333      29797        23.2   \n",
            "21         10.819778   2.59   797       11951.000000       5656        27.6   \n",
            "22         11.512925   7.94   662        1939.958333      21162        57.7   \n",
            "23         11.736069   7.05   782        5640.041667      16931        34.6   \n",
            "24         11.264464   8.80   672        3760.958333       4822        58.1   \n",
            "25         12.429216  10.00   712        1553.958333      14354        36.6   \n",
            "26         11.082143   0.28   802        4649.958333       1576         5.7   \n",
            "27          9.998798  14.29   662        1318.958333       4175        51.5   \n",
            "28         12.206073   0.28   772        4516.958333       3164        13.7   \n",
            "29         12.206073   3.72   812        6778.958333      85607         0.7   \n",
            "...              ...    ...   ...                ...        ...         ...   \n",
            "9548       10.778956  14.20   667        4080.000000       1530        36.4   \n",
            "9549       11.877569   8.63   667        8280.041667      55442        66.9   \n",
            "9550       10.085809   1.15   732        1230.041667        972        11.3   \n",
            "9551       11.736069  16.85   707        7440.041667     206877        92.5   \n",
            "9552       10.691945  23.62   702        3780.041667       6255        56.9   \n",
            "9553       11.775290  10.80   697        4110.000000     197716        74.9   \n",
            "9554       11.842229  16.16   707        4230.041667      56909        49.8   \n",
            "9555       12.292250   9.94   717        5730.041667      39576        27.7   \n",
            "9556       11.002100  18.18   677        3423.041667      15301        85.0   \n",
            "9557       12.206073  13.97   722        6120.041667     338935        78.3   \n",
            "9558       11.805595  17.21   682        2790.041667      38578        86.9   \n",
            "9559       11.314475  21.13   732        5881.000000      35227        54.3   \n",
            "9560       11.407565  15.76   667       10050.041670      13255        88.4   \n",
            "9561       10.999095  10.17   722        4410.000000      11586        61.6   \n",
            "9562       10.933107  17.76   717        3870.041667       8760        28.2   \n",
            "9563       11.225243  17.84   727        6840.041667      18753        29.0   \n",
            "9564       12.323856  12.33   687        6420.041667     385489        51.2   \n",
            "9565       10.308953  21.04   697        3390.000000      26117        78.4   \n",
            "9566       11.002100  24.06   662        1800.000000      16441        49.8   \n",
            "9567       10.968198   8.23   687        2790.041667       1514        13.8   \n",
            "9568       10.645425  22.17   667        5916.000000      28854        59.8   \n",
            "9569       12.429216   3.62   722        3239.958333      33575        83.9   \n",
            "9570       10.645425  28.06   672        3210.041667      25759        63.8   \n",
            "9571       11.225243   8.00   677        7230.000000       6909        29.2   \n",
            "9572       10.110472   7.02   662        8190.041667       2999        39.5   \n",
            "9573       12.180755  10.39   672       10474.000000     215372        82.1   \n",
            "9574       11.141862   0.21   722        4380.000000        184         1.1   \n",
            "9575       10.596635  13.09   687        3450.041667      10036        82.9   \n",
            "9576       10.819778  19.18   692        1800.000000          0         3.2   \n",
            "9577       11.264464  16.28   732        4740.000000      37879        57.0   \n",
            "\n",
            "      inq.last.6mths  delinq.2yrs  pub.rec  not.fully.paid  \n",
            "0                  0            0        0               0  \n",
            "1                  0            0        0               0  \n",
            "2                  1            0        0               0  \n",
            "3                  1            0        0               0  \n",
            "4                  0            1        0               0  \n",
            "5                  0            0        0               0  \n",
            "6                  0            0        1               1  \n",
            "7                  0            0        0               1  \n",
            "8                  1            0        0               0  \n",
            "9                  1            0        0               0  \n",
            "10                 2            0        1               0  \n",
            "11                 2            1        0               0  \n",
            "12                 0            0        0               0  \n",
            "13                 0            1        0               0  \n",
            "14                 0            0        0               0  \n",
            "15                 1            0        0               0  \n",
            "16                 0            0        0               0  \n",
            "17                 1            0        0               0  \n",
            "18                 0            0        0               0  \n",
            "19                 3            0        0               0  \n",
            "20                 1            0        0               0  \n",
            "21                 0            0        0               0  \n",
            "22                 0            0        0               0  \n",
            "23                 1            0        0               0  \n",
            "24                 0            0        1               0  \n",
            "25                 0            2        0               0  \n",
            "26                 1            0        0               0  \n",
            "27                 0            1        0               0  \n",
            "28                 0            0        0               0  \n",
            "29                 0            0        0               0  \n",
            "...              ...          ...      ...             ...  \n",
            "9548               7            0        0               1  \n",
            "9549               9            0        1               1  \n",
            "9550               5            0        0               0  \n",
            "9551               1            0        0               1  \n",
            "9552               5            2        0               0  \n",
            "9553               4            0        0               0  \n",
            "9554               5            0        0               0  \n",
            "9555               5            0        0               1  \n",
            "9556               4            0        0               0  \n",
            "9557               2            0        0               0  \n",
            "9558               4            0        0               0  \n",
            "9559               5            0        0               0  \n",
            "9560               7            0        0               0  \n",
            "9561               4            0        0               0  \n",
            "9562               6            0        0               0  \n",
            "9563               4            0        0               1  \n",
            "9564               4            0        0               0  \n",
            "9565               6            0        0               1  \n",
            "9566               9            0        0               1  \n",
            "9567               5            0        0               0  \n",
            "9568               6            0        1               0  \n",
            "9569               5            0        0               1  \n",
            "9570               5            0        0               1  \n",
            "9571               4            0        1               1  \n",
            "9572               6            0        0               1  \n",
            "9573               2            0        0               1  \n",
            "9574               5            0        0               1  \n",
            "9575               8            0        0               1  \n",
            "9576               5            0        0               1  \n",
            "9577               6            0        0               1  \n",
            "\n",
            "[9578 rows x 14 columns]\n"
          ],
          "name": "stdout"
        }
      ]
    },
    {
      "cell_type": "code",
      "metadata": {
        "id": "IsziKjqtV3B1",
        "colab_type": "code",
        "colab": {}
      },
      "source": [
        "X = data[['purpose','int.rate','installment','log.annual.inc','dti','fico','days.with.cr.line','revol.bal','revol.util','inq.last.6mths','delinq.2yrs','pub.rec','not.fully.paid']]\n",
        "Y = data.credit_policy"
      ],
      "execution_count": 0,
      "outputs": []
    }
  ]
}