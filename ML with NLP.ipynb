{
  "nbformat": 4,
  "nbformat_minor": 0,
  "metadata": {
    "colab": {
      "name": "ML.ipynb",
      "version": "0.3.2",
      "provenance": [],
      "collapsed_sections": [],
      "include_colab_link": true
    },
    "kernelspec": {
      "name": "python3",
      "display_name": "Python 3"
    }
  },
  "cells": [
    {
      "cell_type": "markdown",
      "metadata": {
        "id": "view-in-github",
        "colab_type": "text"
      },
      "source": [
        "<a href=\"https://colab.research.google.com/github/sanjanadc/ML_python/blob/master/ML%20with%20NLP.ipynb\" target=\"_parent\"><img src=\"https://colab.research.google.com/assets/colab-badge.svg\" alt=\"Open In Colab\"/></a>"
      ]
    },
    {
      "cell_type": "code",
      "metadata": {
        "id": "xqgz3sWZ273h",
        "colab_type": "code",
        "outputId": "efec9750-a65b-4d4f-be6e-13e21ce72781",
        "colab": {
          "base_uri": "https://localhost:8080/",
          "height": 34
        }
      },
      "source": [
        "print (\"hello world\");\n",
        "\n",
        "\n",
        "\n",
        "\n",
        "\n",
        "\n",
        "\n"
      ],
      "execution_count": 1,
      "outputs": [
        {
          "output_type": "stream",
          "text": [
            "hello world\n"
          ],
          "name": "stdout"
        }
      ]
    },
    {
      "cell_type": "code",
      "metadata": {
        "id": "jEJMflyK28h1",
        "colab_type": "code",
        "outputId": "238594ae-bf0a-42ff-8b70-cfa895c7be3b",
        "colab": {
          "base_uri": "https://localhost:8080/",
          "height": 50
        }
      },
      "source": [
        "import numpy as np\n",
        "L1 = [2,4,6,8,10]\n",
        "L2 = [1,3,5,7,9]\n",
        "print (np.add(L1,L2));\n",
        "san = np.array([2,4,6,8,10])\n",
        "print (san * 2);\n",
        "\n"
      ],
      "execution_count": 2,
      "outputs": [
        {
          "output_type": "stream",
          "text": [
            "[ 3  7 11 15 19]\n",
            "[ 4  8 12 16 20]\n"
          ],
          "name": "stdout"
        }
      ]
    },
    {
      "cell_type": "code",
      "metadata": {
        "id": "oLe3Pwho65vn",
        "colab_type": "code",
        "outputId": "05ebb1fb-8f70-4a0f-e9f3-3ee41de62ef8",
        "colab": {
          "base_uri": "https://localhost:8080/",
          "height": 246
        }
      },
      "source": [
        "angle = list(range(0,360,30))\n",
        "print(angle);\n",
        "i1 = index.angle[90]\n",
        "i2 = angle[270]\n",
        "i1_rev = len(angle)-9\n",
        "i2_rev = len(angle)-3\n",
        "new =  angle[3:10][::-1]\n",
        "print(new)\n",
        "\n"
      ],
      "execution_count": 3,
      "outputs": [
        {
          "output_type": "stream",
          "text": [
            "[0, 30, 60, 90, 120, 150, 180, 210, 240, 270, 300, 330]\n"
          ],
          "name": "stdout"
        },
        {
          "output_type": "error",
          "ename": "NameError",
          "evalue": "ignored",
          "traceback": [
            "\u001b[0;31m---------------------------------------------------------------------------\u001b[0m",
            "\u001b[0;31mNameError\u001b[0m                                 Traceback (most recent call last)",
            "\u001b[0;32m<ipython-input-3-d579cbe7b6fe>\u001b[0m in \u001b[0;36m<module>\u001b[0;34m()\u001b[0m\n\u001b[1;32m      1\u001b[0m \u001b[0mangle\u001b[0m \u001b[0;34m=\u001b[0m \u001b[0mlist\u001b[0m\u001b[0;34m(\u001b[0m\u001b[0mrange\u001b[0m\u001b[0;34m(\u001b[0m\u001b[0;36m0\u001b[0m\u001b[0;34m,\u001b[0m\u001b[0;36m360\u001b[0m\u001b[0;34m,\u001b[0m\u001b[0;36m30\u001b[0m\u001b[0;34m)\u001b[0m\u001b[0;34m)\u001b[0m\u001b[0;34m\u001b[0m\u001b[0;34m\u001b[0m\u001b[0m\n\u001b[1;32m      2\u001b[0m \u001b[0mprint\u001b[0m\u001b[0;34m(\u001b[0m\u001b[0mangle\u001b[0m\u001b[0;34m)\u001b[0m\u001b[0;34m;\u001b[0m\u001b[0;34m\u001b[0m\u001b[0;34m\u001b[0m\u001b[0m\n\u001b[0;32m----> 3\u001b[0;31m \u001b[0mi1\u001b[0m \u001b[0;34m=\u001b[0m \u001b[0mindex\u001b[0m\u001b[0;34m.\u001b[0m\u001b[0mangle\u001b[0m\u001b[0;34m[\u001b[0m\u001b[0;36m90\u001b[0m\u001b[0;34m]\u001b[0m\u001b[0;34m\u001b[0m\u001b[0;34m\u001b[0m\u001b[0m\n\u001b[0m\u001b[1;32m      4\u001b[0m \u001b[0mi2\u001b[0m \u001b[0;34m=\u001b[0m \u001b[0mangle\u001b[0m\u001b[0;34m[\u001b[0m\u001b[0;36m270\u001b[0m\u001b[0;34m]\u001b[0m\u001b[0;34m\u001b[0m\u001b[0;34m\u001b[0m\u001b[0m\n\u001b[1;32m      5\u001b[0m \u001b[0mi1_rev\u001b[0m \u001b[0;34m=\u001b[0m \u001b[0mlen\u001b[0m\u001b[0;34m(\u001b[0m\u001b[0mangle\u001b[0m\u001b[0;34m)\u001b[0m\u001b[0;34m-\u001b[0m\u001b[0;36m9\u001b[0m\u001b[0;34m\u001b[0m\u001b[0;34m\u001b[0m\u001b[0m\n",
            "\u001b[0;31mNameError\u001b[0m: name 'index' is not defined"
          ]
        }
      ]
    },
    {
      "cell_type": "code",
      "metadata": {
        "id": "auj0rBKld9Jd",
        "colab_type": "code",
        "colab": {}
      },
      "source": [
        "L1 = [1, 2, 3]\n",
        "L2 = L1\n",
        "print(L2)\n",
        "L2.remove(3)\n",
        "print(L2)\n",
        "L1\n",
        "L4 = L1.copy()\n",
        "L3=L1[:]\n",
        "\n",
        "\n",
        "\n",
        "\n"
      ],
      "execution_count": 0,
      "outputs": []
    },
    {
      "cell_type": "code",
      "metadata": {
        "id": "eOsoTfWOoojF",
        "colab_type": "code",
        "colab": {}
      },
      "source": [
        "tup1 = (12, 34);\n",
        "tup2 = ('abc', 'xyz');\n",
        "\n",
        "\n",
        "tup3 = tup1 + tup2;\n",
        "print(tup3)\n",
        "\n",
        "tup3.remove(12)\n",
        "\n",
        "\n"
      ],
      "execution_count": 0,
      "outputs": []
    },
    {
      "cell_type": "code",
      "metadata": {
        "id": "6OnpIIwnyIt0",
        "colab_type": "code",
        "colab": {}
      },
      "source": [
        "states = {'AP': [100, 'HYD',False], 'Assam':[200,'dispur', False], 'Bihar' : [200,'patna',True]}\n",
        "\n",
        "print(states.get('Bihar'))\n",
        "states['telangana']= ['hyd', True]\n",
        "print(states)"
      ],
      "execution_count": 0,
      "outputs": []
    },
    {
      "cell_type": "code",
      "metadata": {
        "id": "-QQd-aDP-urV",
        "colab_type": "code",
        "colab": {}
      },
      "source": [
        "def deg_rad(angle):\n",
        "  radian = angle*(3.14/180)\n",
        "  return radian\n",
        "\n",
        "deg_rad(360)\n"
      ],
      "execution_count": 0,
      "outputs": []
    },
    {
      "cell_type": "code",
      "metadata": {
        "id": "GBpPb87eBuV1",
        "colab_type": "code",
        "colab": {}
      },
      "source": [
        "import numpy as np\n",
        "import tensorflow as tf"
      ],
      "execution_count": 0,
      "outputs": []
    },
    {
      "cell_type": "code",
      "metadata": {
        "id": "NKbklD_Xnk8_",
        "colab_type": "code",
        "colab": {}
      },
      "source": [
        "import pytorch \n"
      ],
      "execution_count": 0,
      "outputs": []
    },
    {
      "cell_type": "code",
      "metadata": {
        "id": "LgjZzo7hhQb8",
        "colab_type": "code",
        "colab": {}
      },
      "source": [
        "#convert angles to radiance\n",
        "for a in [30, 60,90,120,150,180]:\n",
        "  x = a * (3.14/180)\n",
        "  print(x)\n",
        "  "
      ],
      "execution_count": 0,
      "outputs": []
    },
    {
      "cell_type": "code",
      "metadata": {
        "id": "wXI5FUHFo0Im",
        "colab_type": "code",
        "colab": {}
      },
      "source": [
        "import numpy as np\n",
        "\n",
        "a = np.array([1,2,3])\n",
        "b = np.array([[1,2,3],[4,5,6]])\n",
        "c = np.zeros([3,9])\n",
        "d = np.eye(3)\n",
        "print(a)\n",
        "print(b)\n",
        "print(c)\n",
        "print(d)\n",
        "print(b.shape)\n",
        "print(len(a))\n",
        "print(b.ndim)\n",
        "print(b.size)\n",
        "print(b.dtype)\n",
        "b = b.astype(float)\n",
        "b.dtype"
      ],
      "execution_count": 0,
      "outputs": []
    },
    {
      "cell_type": "code",
      "metadata": {
        "id": "RL8KooW9-U92",
        "colab_type": "code",
        "colab": {}
      },
      "source": [
        ""
      ],
      "execution_count": 0,
      "outputs": []
    },
    {
      "cell_type": "code",
      "metadata": {
        "id": "sJhAMa3FreRY",
        "colab_type": "code",
        "colab": {}
      },
      "source": [
        "from sklearn import datasets\n",
        "iris = datasets.load_iris()\n",
        "x = iris.data\n",
        "print(x.shape)"
      ],
      "execution_count": 0,
      "outputs": []
    },
    {
      "cell_type": "code",
      "metadata": {
        "id": "L_4IqedM20Dc",
        "colab_type": "code",
        "colab": {}
      },
      "source": [
        "from google.colab import files\n",
        "uploaded = files.upload()\n",
        "                 \n",
        "                 "
      ],
      "execution_count": 0,
      "outputs": []
    },
    {
      "cell_type": "code",
      "metadata": {
        "id": "E3t34WOX5DeA",
        "colab_type": "code",
        "colab": {}
      },
      "source": [
        "import pandas as pd\n",
        "df = pd.read_csv('matches.csv')\n",
        "print(df.shape)\n",
        "print(df.columns)\n",
        "print(list(df.index)[ : 10])\n",
        "df.head(10)"
      ],
      "execution_count": 0,
      "outputs": []
    },
    {
      "cell_type": "code",
      "metadata": {
        "id": "dJfw3M8w-XX3",
        "colab_type": "code",
        "colab": {}
      },
      "source": [
        "import pandas as pd\n",
        "df = pd.read_csv('matches.csv')\n",
        "df[df['city']=='Bangalore']['winner']\n",
        "df[df['season'].isin([2008,2015,2009])][['season','toss_winner']]\n",
        "\n",
        "df['winner'].value_counts()\n",
        "df['winner'].isnull().sum()"
      ],
      "execution_count": 0,
      "outputs": []
    },
    {
      "cell_type": "code",
      "metadata": {
        "id": "qic0-hFICuIV",
        "colab_type": "code",
        "colab": {}
      },
      "source": [
        "import pandas as pd\n",
        "df = pd.read_csv('matches.csv')\n",
        "df.reset_index(inplace=True)\n",
        "df.set_index('date',inplace=True)\n",
        "df.iloc[0: 10]\n",
        "df.loc['5/1/2008']"
      ],
      "execution_count": 0,
      "outputs": []
    },
    {
      "cell_type": "code",
      "metadata": {
        "id": "mPxRiQ-KFub5",
        "colab_type": "code",
        "colab": {}
      },
      "source": [
        "df['city'].fillna('bifill', inplace=True)\n",
        "df.isnull().sum()"
      ],
      "execution_count": 0,
      "outputs": []
    },
    {
      "cell_type": "code",
      "metadata": {
        "id": "R6Iyx858WR2t",
        "colab_type": "code",
        "colab": {}
      },
      "source": [
        "df1 = pd.DataFrame({'metal': ['steel', 'copper','iron'], 'YM':[200, 100, 250],'ductile':['True','False','True']}, index = ['m1','m2','m3'])\n",
        "\n",
        "df1.ix['m4']=['FE',200, 'True']\n",
        "print(df1)\n",
        "df2 = df1.drop('m4', axis = 0)\n",
        "print(df2)\n"
      ],
      "execution_count": 0,
      "outputs": []
    },
    {
      "cell_type": "code",
      "metadata": {
        "id": "6Bb9RNJ9jFLW",
        "colab_type": "code",
        "colab": {}
      },
      "source": [
        ""
      ],
      "execution_count": 0,
      "outputs": []
    },
    {
      "cell_type": "code",
      "metadata": {
        "id": "0uc6EUhhYRtk",
        "colab_type": "code",
        "colab": {}
      },
      "source": [
        "df2 = pd.DataFrame({'uts (MPA)': [100,300,200],'metal': ['steel', 'copper','iron'], 'YM':[200, 100, 250],'ductile':['True','False','True']}, index = ['me1','me2','me3'])\n",
        "\n",
        "df1 = pd.DataFrame({'metal': ['steel', 'copper','iron'], 'YM':[200, 100, 250],'ductile':['True','False','True']}, index = ['m1','m2','m3'])\n",
        "\n",
        "\n",
        "pd.concat([df2,df1])\n",
        "print(df2)\n",
        "print(df1)\n",
        "\n",
        "pd.merge(df1,df2, on='metal', how= 'outer')\n"
      ],
      "execution_count": 0,
      "outputs": []
    },
    {
      "cell_type": "code",
      "metadata": {
        "id": "wCEfADzGoYXV",
        "colab_type": "code",
        "colab": {}
      },
      "source": [
        "from google.colab import files\n",
        "uploaded = files.upload()"
      ],
      "execution_count": 0,
      "outputs": []
    },
    {
      "cell_type": "code",
      "metadata": {
        "id": "zbz6J7P2o4Kt",
        "colab_type": "code",
        "colab": {}
      },
      "source": [
        "import pandas as pd\n",
        "import numpy as np\n",
        "import matplotlib.pyplot as plt\n",
        "import seaborn as sns\n",
        "import statsmodels.api as sm\n"
      ],
      "execution_count": 0,
      "outputs": []
    },
    {
      "cell_type": "code",
      "metadata": {
        "id": "T-YiWTxkx_LC",
        "colab_type": "code",
        "colab": {}
      },
      "source": [
        "import pandas as pd\n",
        "import numpy as np\n",
        "import matplotlib.pyplot as plt\n",
        "import seaborn as sns\n",
        "import statsmodels.api as sm\n",
        "\n",
        "cars = sm.datasets.get_rdataset('mtcars').data\n",
        "print(cars.head(4).T)\n",
        "print(cars.info()) \n",
        "corelation = -cov(x,y)/(sd(x)*sd(y))\n",
        "sns.regplot(x=cars.mpg, y = cars.wt, ci = 95)\n",
        "corcoef = np.corrcoef(cars.mpg, cars.wt)[0,1]\n",
        "text_cc = '\\n\\n\\n correlation coefficient is %1.4f'% corcoef\n",
        "plt.title('scatter plot MPG vs Weight')\n",
        "plt.suptitle(text_cc)\n",
        "plt.gcf().tight_layout()\n",
        "\n",
        "sns.heatmap(cars.corr(), cmap = \"BuGn\")\n",
        "plt.show()\n"
      ],
      "execution_count": 0,
      "outputs": []
    },
    {
      "cell_type": "code",
      "metadata": {
        "id": "9KyRJaYa_QNn",
        "colab_type": "code",
        "colab": {}
      },
      "source": [
        "import statsmodels.api as sm\n",
        "X = cars.wt\n",
        "Y = cars.mpg\n",
        "\n",
        "X = sm.add_constant(X)\n",
        "model = sm.OLS(Y, X).fit()\n",
        "predictions = model.predict(X)\n",
        "\n",
        "model.summary()"
      ],
      "execution_count": 0,
      "outputs": []
    },
    {
      "cell_type": "code",
      "metadata": {
        "id": "o4hWNLm4E7y0",
        "colab_type": "code",
        "colab": {}
      },
      "source": [
        "new_x = [1, 3]\n",
        "\n",
        "predictions = model.predict(new_x)\n",
        "print('predicted mpg of car with weight %d(000lbs) is %2.2f'% (3.0, np.round(predictions, 3)))"
      ],
      "execution_count": 0,
      "outputs": []
    },
    {
      "cell_type": "code",
      "metadata": {
        "id": "5Aw5dEroHljB",
        "colab_type": "code",
        "colab": {}
      },
      "source": [
        "from sklearn import linear_model\n",
        "new_x = [1, 3]\n",
        "\n",
        "\n",
        "X = np.array(Y).reshape(-1, 1)\n",
        "Y = cars.mpg\n",
        "lm = linear_model.LinearRegression()\n",
        "model = lm.fit(X,Y)\n",
        "\n",
        "predections = lm.predict(X)\n",
        "print('R square is %1.3f'% lm.score(X,Y))\n",
        "\n"
      ],
      "execution_count": 0,
      "outputs": []
    },
    {
      "cell_type": "code",
      "metadata": {
        "id": "z6pgoUUMQ94o",
        "colab_type": "code",
        "colab": {}
      },
      "source": [
        "import statsmodels.api as sm\n",
        "X = cars.disp\n",
        "Y = cars.mpg\n",
        "\n",
        "X = sm.add_constant(X)\n",
        "model = sm.OLS(Y, X).fit()\n",
        "predictions = model.predict(X)\n",
        "\n",
        "model.summary()"
      ],
      "execution_count": 0,
      "outputs": []
    },
    {
      "cell_type": "code",
      "metadata": {
        "id": "CMkqIpytPkmA",
        "colab_type": "code",
        "colab": {}
      },
      "source": [
        "import statsmodels.api as sm\n",
        "X = cars.disp\n",
        "Y = cars.mpg\n",
        "\n",
        "X = sm.add_constant(X)\n",
        "model = sm.OLS(Y, X).fit()\n",
        "predictions = model.predict(X)\n",
        "\n",
        "model.summary()"
      ],
      "execution_count": 0,
      "outputs": []
    },
    {
      "cell_type": "code",
      "metadata": {
        "id": "Kr6owOExRKgY",
        "colab_type": "code",
        "colab": {}
      },
      "source": [
        "import scipy.stats as stats\n",
        "import matplotlib.pyplot as plt\n",
        "import statsmodels.api as sm\n",
        "\n",
        "X = cars[[\"wt\",\"disp\", \"drat\", \"am\", \"gear\"]]\n",
        "Y = cars.mpg\n",
        "\n",
        "X = sm.add_constant(X)  #add intercept\n",
        "print(X)\n"
      ],
      "execution_count": 0,
      "outputs": []
    },
    {
      "cell_type": "code",
      "metadata": {
        "id": "fYflkZyaTXOE",
        "colab_type": "code",
        "colab": {}
      },
      "source": [
        "from sklearn import linear_model\n",
        "new_x = [1, 3]\n",
        "\n",
        "\n",
        "#X = cars[[\"wt\",\"disp\", \"drat\", \"am\", \"gear\"]]\n",
        "X = cars[[\"wt\", \"drat\", \"am\", \"gear\",\"cyl\",\"hp\",\"qsec\",\"vs\"]]\n",
        "Y = cars.mpg\n",
        "\n",
        "lm = linear_model.LinearRegression()\n",
        "model = lm.fit(X,Y)\n",
        "\n",
        "predections = lm.predict(X)\n",
        "print('R square is %1.3f'% lm.score(X,Y))\n"
      ],
      "execution_count": 0,
      "outputs": []
    },
    {
      "cell_type": "code",
      "metadata": {
        "id": "FTT_eAupzC8e",
        "colab_type": "code",
        "colab": {}
      },
      "source": [
        "import statsmodels.api as sm\n",
        "#X = cars[[\"wt\",\"disp\", \"drat\", \"am\", \"gear\",\"cyl\",\"hp\",\"qsec\",\"vs\", \"carb\"]]\n",
        "X = cars[[\"wt\",\"disp\", \"drat\", \"am\", \"gear\",\"cyl\",\"hp\",\"qsec\",\"vs\", \"carb\"]]\n",
        "Y = cars.mpg\n",
        "\n",
        "X = sm.add_constant(X)\n",
        "model = sm.OLS(Y, X).fit()\n",
        "predictions = model.predict(X)\n",
        "\n",
        "model.summary()"
      ],
      "execution_count": 0,
      "outputs": []
    },
    {
      "cell_type": "code",
      "metadata": {
        "id": "ObabaBZIAQPT",
        "colab_type": "code",
        "colab": {}
      },
      "source": [
        "from google.colab import files\n",
        "uploaded = files.upload()"
      ],
      "execution_count": 0,
      "outputs": []
    },
    {
      "cell_type": "markdown",
      "metadata": {
        "id": "-ZCZqyfD6eNm",
        "colab_type": "text"
      },
      "source": [
        "variance inflation factor - checks multicolinearity across data\n"
      ]
    },
    {
      "cell_type": "code",
      "metadata": {
        "id": "OngrsX4PATz2",
        "colab_type": "code",
        "colab": {}
      },
      "source": [
        "from statsmodels.stats.outliers_influence import variance_inflation_factor\n",
        "\n",
        "df = pd.read_csv('concrete.csv')\n",
        "\n",
        "[variance_inflation_factor(X.values, j) for j in range(1, X.shape[1])]\n",
        "\n",
        "\n",
        "\n"
      ],
      "execution_count": 0,
      "outputs": []
    },
    {
      "cell_type": "code",
      "metadata": {
        "id": "Innr0Ru6Cn5q",
        "colab_type": "code",
        "colab": {}
      },
      "source": [
        "from statsmodels.stats.outliers_influence import variance_inflation_factor\n",
        "import statsmodels.api as sm\n",
        "\n",
        "cement_df = pd.read_csv('concrete.csv')\n",
        "\n",
        "X = cement_df[[\"cement\", \"slag\",\"water\", \"ash\" ,\"age\"]]\n",
        "Y = cement_df.strength\n",
        "print(X.head())\n",
        "\n",
        "X = sm.add_constant(X)\n",
        "model = sm.OLS(Y, X).fit()\n",
        "predictions = model.predict(X)\n",
        "print(model.summary())\n",
        "\n",
        "\n",
        "\n",
        "\n"
      ],
      "execution_count": 0,
      "outputs": []
    },
    {
      "cell_type": "code",
      "metadata": {
        "id": "5SgbUxW1FnXj",
        "colab_type": "code",
        "colab": {}
      },
      "source": [
        "from statsmodels.stats.outliers_influence import variance_inflation_factor\n",
        "import statsmodels.api as sm\n",
        "\n",
        "cement_df = pd.read_csv('concrete.csv')\n",
        "\n",
        "X = cement_df[[\"ash\"]]\n",
        "Y = cement_df.strength\n",
        "print(X.head())\n",
        "\n",
        "X = sm.add_constant(X)\n",
        "model = sm.OLS(Y, X).fit()\n",
        "predictions = model.predict(X)\n",
        "print(model.summary())\n",
        "\n",
        "[variance_inflation_factor(X.values, j) for j in range(0, X.shape[1])]\n"
      ],
      "execution_count": 0,
      "outputs": []
    },
    {
      "cell_type": "code",
      "metadata": {
        "id": "-teY6qtQHarh",
        "colab_type": "code",
        "colab": {}
      },
      "source": [
        "import numpy as np\n",
        "x =np.array([[1, 2, 3], [4,5,6]])\n",
        "y =x.shape\n",
        "print(y)"
      ],
      "execution_count": 0,
      "outputs": []
    },
    {
      "cell_type": "code",
      "metadata": {
        "id": "F7ePSm1XIi1G",
        "colab_type": "code",
        "colab": {}
      },
      "source": [
        "x.shape[1]"
      ],
      "execution_count": 0,
      "outputs": []
    },
    {
      "cell_type": "markdown",
      "metadata": {
        "id": "05n6tHOoghb_",
        "colab_type": "text"
      },
      "source": [
        "logit/ sigmoid \n",
        "\n",
        "logistic regression - \n",
        "logit_model - stats model"
      ]
    },
    {
      "cell_type": "code",
      "metadata": {
        "id": "xesqL-e9i9uX",
        "colab_type": "code",
        "colab": {
          "resources": {
            "http://localhost:8080/nbextensions/google.colab/files.js": {
              "data": "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",
              "ok": true,
              "headers": [
                [
                  "content-type",
                  "application/javascript"
                ]
              ],
              "status": 200,
              "status_text": ""
            }
          },
          "base_uri": "https://localhost:8080/",
          "height": 74
        },
        "outputId": "261da127-086a-4847-c9fc-68b1bed3533a"
      },
      "source": [
        "from google.colab import files\n",
        "uploaded = files.upload()"
      ],
      "execution_count": 125,
      "outputs": [
        {
          "output_type": "display_data",
          "data": {
            "text/html": [
              "\n",
              "     <input type=\"file\" id=\"files-b22cb14f-656f-47d7-9b65-ac675b4f4ba4\" name=\"files[]\" multiple disabled />\n",
              "     <output id=\"result-b22cb14f-656f-47d7-9b65-ac675b4f4ba4\">\n",
              "      Upload widget is only available when the cell has been executed in the\n",
              "      current browser session. Please rerun this cell to enable.\n",
              "      </output>\n",
              "      <script src=\"/nbextensions/google.colab/files.js\"></script> "
            ],
            "text/plain": [
              "<IPython.core.display.HTML object>"
            ]
          },
          "metadata": {
            "tags": []
          }
        },
        {
          "output_type": "stream",
          "text": [
            "Saving TRAIN_info_SMS.csv to TRAIN_info_SMS (1).csv\n"
          ],
          "name": "stdout"
        }
      ]
    },
    {
      "cell_type": "code",
      "metadata": {
        "id": "Ck0x8x2aj2QP",
        "colab_type": "code",
        "colab": {}
      },
      "source": [
        "import pandas as pd\n",
        "import numpy as np\n",
        "from sklearn.linear_model import LogisticRegression\n",
        "\n",
        "\n",
        "Ds = pd.read_csv('wisc_bc_data.csv')\n",
        "X = Ds[[\"id\",\"radius_mean\",\"texture_mean\",\"perimeter_mean\",\"area_mean\",\"smoothness_mean\",\"compactness_mean\",\"concavity_mean\",\"points_mean\",\"symmetry_mean\",\"dimension_mean\",\"radius_se\",\"texture_se\",\"perimeter_se\",\"area_se\",\"smoothness_se\",\"compactness_se\",\"concavity_se\",\"points_se\",\"symmetry_se\",\"dimension_se\",\"radius_worst\",\t\"texture_worst\",\t\"perimeter_worst\",\"area_worst\",\"smoothness_worst\",\"compactness_worst\",\"concavity_worst\",\"points_worst\",\"symmetry_worst\",\"dimension_worst\"]]\n",
        "Y = Ds.diagnosis\n",
        "\n",
        "X.shape\n",
        "\n",
        "#print(Ds.head().T)\n"
      ],
      "execution_count": 0,
      "outputs": []
    },
    {
      "cell_type": "code",
      "metadata": {
        "id": "QgbZrD79v3-8",
        "colab_type": "code",
        "colab": {}
      },
      "source": [
        "import pandas as pd\n",
        "import numpy as np\n",
        "from sklearn.linear_model import LogisticRegression\n",
        "\n",
        "\n",
        "Ds = pd.read_csv('wisc_bc_data.csv')\n",
        "X = []\n",
        "for row in Ds:\n",
        "  X.append(row.split()[0]) \n",
        "X.remove(\"id\")\n",
        "X.remove(\"diagnosis\")\n",
        "\n",
        "z=Ds[\"diagnosis\"].map({'B':'0','M':'1'})\n",
        "\n",
        "\n",
        "x = Ds[X]\n",
        "y = Ds[\"diagnosis\"]\n",
        "lm = LogisticRegression()\n",
        "model = lm.fit(x,y)\n",
        "\n",
        "predections = lm.predict(x)\n",
        "print(lm.score(x,y))\n",
        "\n",
        "from sklearn.metrics import precision_score\n",
        "from sklearn.metrics import accuracy_score\n",
        "from sklearn.metrics import f1_score\n",
        "from sklearn.metrics import recall_score\n",
        "from sklearn.metrics import confusion_matrix\n",
        "\n",
        "accuracy = accuracy_score(predections, Y)\n",
        "print(accuracy)\n",
        "\n",
        "con = confusion_matrix(Y, predections)\n",
        "print(con)\n",
        "\n",
        "pre = precision_score(Y, predections,average=None)\n",
        "print(pre)\n",
        "\n",
        "recall = recall_score(Y, predections,average=None)\n",
        "print(recall)\n",
        "\n",
        "f1 = f1_score(Y, predections,average=None)\n",
        "print(f1)\n"
      ],
      "execution_count": 0,
      "outputs": []
    },
    {
      "cell_type": "code",
      "metadata": {
        "id": "973wPyvhzOA2",
        "colab_type": "code",
        "colab": {
          "base_uri": "https://localhost:8080/",
          "height": 370
        },
        "outputId": "c310fe69-8d86-4940-e854-30dd62f1667c"
      },
      "source": [
        "import pandas as pd\n",
        "import numpy as np\n",
        "from sklearn.linear_model import LogisticRegression\n",
        "\n",
        "data =pd.read_csv('loans_imputed.csv') \n",
        "\n",
        "\n",
        "X = data[['purpose','int.rate','installment','log.annual.inc','dti','fico','days.with.cr.line','revol.bal','revol.util','inq.last.6mths','delinq.2yrs','pub.rec','not.fully.paid']]\n",
        "Y = data['credit_policy']\n",
        "\n",
        "print(X.shape)\n",
        "print(X.head())\n",
        "\n"
      ],
      "execution_count": 10,
      "outputs": [
        {
          "output_type": "stream",
          "text": [
            "(9578, 13)\n",
            "              purpose  int.rate  installment  log.annual.inc    dti  fico  \\\n",
            "0  debt_consolidation    0.1189       829.10       11.350407  19.48   737   \n",
            "1         credit_card    0.1071       228.22       11.082143  14.29   707   \n",
            "2  debt_consolidation    0.1357       366.86       10.373491  11.63   682   \n",
            "3  debt_consolidation    0.1008       162.34       11.350407   8.10   712   \n",
            "4         credit_card    0.1426       102.92       11.299732  14.97   667   \n",
            "\n",
            "   days.with.cr.line  revol.bal  revol.util  inq.last.6mths  delinq.2yrs  \\\n",
            "0        5639.958333      28854        52.1               0            0   \n",
            "1        2760.000000      33623        76.7               0            0   \n",
            "2        4710.000000       3511        25.6               1            0   \n",
            "3        2699.958333      33667        73.2               1            0   \n",
            "4        4066.000000       4740        39.5               0            1   \n",
            "\n",
            "   pub.rec  not.fully.paid  \n",
            "0        0               0  \n",
            "1        0               0  \n",
            "2        0               0  \n",
            "3        0               0  \n",
            "4        0               0  \n"
          ],
          "name": "stdout"
        }
      ]
    },
    {
      "cell_type": "code",
      "metadata": {
        "id": "Jihg3SGVfWov",
        "colab_type": "code",
        "colab": {
          "base_uri": "https://localhost:8080/",
          "height": 195
        },
        "outputId": "2c565326-28ae-4366-c9e4-6bd3cc9b1a40"
      },
      "source": [
        "\n",
        "data[\"purpose\"]=data[\"purpose\"].map({'debt_consolidation':'0','credit_card':'1','all_other':'2','educational':'3','home_improvement':'4','major_purchase':'5','small_business':'6'})\n",
        "X = data[['purpose','int.rate','installment','log.annual.inc','dti','fico','days.with.cr.line','revol.bal','revol.util','inq.last.6mths','delinq.2yrs','pub.rec','not.fully.paid']]\n",
        "X.head()\n"
      ],
      "execution_count": 11,
      "outputs": [
        {
          "output_type": "execute_result",
          "data": {
            "text/html": [
              "<div>\n",
              "<style scoped>\n",
              "    .dataframe tbody tr th:only-of-type {\n",
              "        vertical-align: middle;\n",
              "    }\n",
              "\n",
              "    .dataframe tbody tr th {\n",
              "        vertical-align: top;\n",
              "    }\n",
              "\n",
              "    .dataframe thead th {\n",
              "        text-align: right;\n",
              "    }\n",
              "</style>\n",
              "<table border=\"1\" class=\"dataframe\">\n",
              "  <thead>\n",
              "    <tr style=\"text-align: right;\">\n",
              "      <th></th>\n",
              "      <th>purpose</th>\n",
              "      <th>int.rate</th>\n",
              "      <th>installment</th>\n",
              "      <th>log.annual.inc</th>\n",
              "      <th>dti</th>\n",
              "      <th>fico</th>\n",
              "      <th>days.with.cr.line</th>\n",
              "      <th>revol.bal</th>\n",
              "      <th>revol.util</th>\n",
              "      <th>inq.last.6mths</th>\n",
              "      <th>delinq.2yrs</th>\n",
              "      <th>pub.rec</th>\n",
              "      <th>not.fully.paid</th>\n",
              "    </tr>\n",
              "  </thead>\n",
              "  <tbody>\n",
              "    <tr>\n",
              "      <th>0</th>\n",
              "      <td>0</td>\n",
              "      <td>0.1189</td>\n",
              "      <td>829.10</td>\n",
              "      <td>11.350407</td>\n",
              "      <td>19.48</td>\n",
              "      <td>737</td>\n",
              "      <td>5639.958333</td>\n",
              "      <td>28854</td>\n",
              "      <td>52.1</td>\n",
              "      <td>0</td>\n",
              "      <td>0</td>\n",
              "      <td>0</td>\n",
              "      <td>0</td>\n",
              "    </tr>\n",
              "    <tr>\n",
              "      <th>1</th>\n",
              "      <td>1</td>\n",
              "      <td>0.1071</td>\n",
              "      <td>228.22</td>\n",
              "      <td>11.082143</td>\n",
              "      <td>14.29</td>\n",
              "      <td>707</td>\n",
              "      <td>2760.000000</td>\n",
              "      <td>33623</td>\n",
              "      <td>76.7</td>\n",
              "      <td>0</td>\n",
              "      <td>0</td>\n",
              "      <td>0</td>\n",
              "      <td>0</td>\n",
              "    </tr>\n",
              "    <tr>\n",
              "      <th>2</th>\n",
              "      <td>0</td>\n",
              "      <td>0.1357</td>\n",
              "      <td>366.86</td>\n",
              "      <td>10.373491</td>\n",
              "      <td>11.63</td>\n",
              "      <td>682</td>\n",
              "      <td>4710.000000</td>\n",
              "      <td>3511</td>\n",
              "      <td>25.6</td>\n",
              "      <td>1</td>\n",
              "      <td>0</td>\n",
              "      <td>0</td>\n",
              "      <td>0</td>\n",
              "    </tr>\n",
              "    <tr>\n",
              "      <th>3</th>\n",
              "      <td>0</td>\n",
              "      <td>0.1008</td>\n",
              "      <td>162.34</td>\n",
              "      <td>11.350407</td>\n",
              "      <td>8.10</td>\n",
              "      <td>712</td>\n",
              "      <td>2699.958333</td>\n",
              "      <td>33667</td>\n",
              "      <td>73.2</td>\n",
              "      <td>1</td>\n",
              "      <td>0</td>\n",
              "      <td>0</td>\n",
              "      <td>0</td>\n",
              "    </tr>\n",
              "    <tr>\n",
              "      <th>4</th>\n",
              "      <td>1</td>\n",
              "      <td>0.1426</td>\n",
              "      <td>102.92</td>\n",
              "      <td>11.299732</td>\n",
              "      <td>14.97</td>\n",
              "      <td>667</td>\n",
              "      <td>4066.000000</td>\n",
              "      <td>4740</td>\n",
              "      <td>39.5</td>\n",
              "      <td>0</td>\n",
              "      <td>1</td>\n",
              "      <td>0</td>\n",
              "      <td>0</td>\n",
              "    </tr>\n",
              "  </tbody>\n",
              "</table>\n",
              "</div>"
            ],
            "text/plain": [
              "  purpose  int.rate  installment  log.annual.inc    dti  fico  \\\n",
              "0       0    0.1189       829.10       11.350407  19.48   737   \n",
              "1       1    0.1071       228.22       11.082143  14.29   707   \n",
              "2       0    0.1357       366.86       10.373491  11.63   682   \n",
              "3       0    0.1008       162.34       11.350407   8.10   712   \n",
              "4       1    0.1426       102.92       11.299732  14.97   667   \n",
              "\n",
              "   days.with.cr.line  revol.bal  revol.util  inq.last.6mths  delinq.2yrs  \\\n",
              "0        5639.958333      28854        52.1               0            0   \n",
              "1        2760.000000      33623        76.7               0            0   \n",
              "2        4710.000000       3511        25.6               1            0   \n",
              "3        2699.958333      33667        73.2               1            0   \n",
              "4        4066.000000       4740        39.5               0            1   \n",
              "\n",
              "   pub.rec  not.fully.paid  \n",
              "0        0               0  \n",
              "1        0               0  \n",
              "2        0               0  \n",
              "3        0               0  \n",
              "4        0               0  "
            ]
          },
          "metadata": {
            "tags": []
          },
          "execution_count": 11
        }
      ]
    },
    {
      "cell_type": "code",
      "metadata": {
        "id": "IsziKjqtV3B1",
        "colab_type": "code",
        "colab": {
          "base_uri": "https://localhost:8080/",
          "height": 87
        },
        "outputId": "cea64023-53a3-42d5-f7ba-18f3c35a8d7b"
      },
      "source": [
        "data = pd.read_csv('loans_imputed.csv')\n",
        "\n",
        "\n",
        "\n",
        "data[\"purpose\"]=data[\"purpose\"].map({'debt_consolidation':'0','credit_card':'1','all_other':'2','educational':'3','home_improvement':'4','major_purchase':'5','small_business':'6'})\n",
        "#X = data[['purpose','int.rate','installment','log.annual.inc','dti','fico','days.with.cr.line','revol.bal','revol.util','inq.last.6mths','delinq.2yrs','pub.rec','not.fully.paid']]\n",
        "X = data[['purpose','installment','dti','fico','inq.last.6mths']]\n",
        "\n",
        "y = data[\"credit_policy\"]\n",
        "lm = LogisticRegression()\n",
        "model = lm.fit(X,y)\n",
        "\n",
        "predections = lm.predict(X)\n",
        "print(lm.score(X,y))"
      ],
      "execution_count": 12,
      "outputs": [
        {
          "output_type": "stream",
          "text": [
            "0.9011275840467738\n"
          ],
          "name": "stdout"
        },
        {
          "output_type": "stream",
          "text": [
            "/usr/local/lib/python3.6/dist-packages/sklearn/linear_model/logistic.py:433: FutureWarning: Default solver will be changed to 'lbfgs' in 0.22. Specify a solver to silence this warning.\n",
            "  FutureWarning)\n"
          ],
          "name": "stderr"
        }
      ]
    },
    {
      "cell_type": "code",
      "metadata": {
        "id": "tSAT6wO4A-Mv",
        "colab_type": "code",
        "colab": {
          "base_uri": "https://localhost:8080/",
          "height": 118
        },
        "outputId": "c5d94d91-dea3-42de-a902-d926e6e8ebe8"
      },
      "source": [
        "from sklearn.metrics import precision_score\n",
        "from sklearn.metrics import accuracy_score\n",
        "from sklearn.metrics import f1_score\n",
        "from sklearn.metrics import recall_score\n",
        "from sklearn.metrics import confusion_matrix\n",
        "\n",
        "accuracy = accuracy_score(predections, Y)\n",
        "print(accuracy)\n",
        "\n",
        "con = confusion_matrix(Y, predections)\n",
        "print(con)\n",
        "\n",
        "pre = precision_score(Y, predections,average=None)\n",
        "print(pre)\n",
        "\n",
        "recall = recall_score(Y, predections,average=None)\n",
        "print(recall)\n",
        "\n",
        "f1 = f1_score(Y, predections,average=None)\n",
        "print(f1)"
      ],
      "execution_count": 138,
      "outputs": [
        {
          "output_type": "stream",
          "text": [
            "0.9011275840467738\n",
            "[[1043  825]\n",
            " [ 122 7588]]\n",
            "[0.89527897 0.90193748]\n",
            "[0.55835118 0.98417639]\n",
            "[0.68776789 0.94126403]\n"
          ],
          "name": "stdout"
        }
      ]
    },
    {
      "cell_type": "code",
      "metadata": {
        "id": "lS4xUnWZ3cnX",
        "colab_type": "code",
        "colab": {}
      },
      "source": [
        "import matplotlib.pyplot as plt\n",
        "\n",
        "X = data[['purpose','installment','dti','fico','inq.last.6mths']]\n",
        "plt.bar(X, Y, align='center', alpha=0.5)\n",
        "plt.xticks(predections, Y)\n",
        "plt.xlabel('Usage')\n",
        "plt.title('Programming language usage')\n",
        "plt.show() "
      ],
      "execution_count": 0,
      "outputs": []
    },
    {
      "cell_type": "code",
      "metadata": {
        "id": "48hiWTnzEoQc",
        "colab_type": "code",
        "colab": {}
      },
      "source": [
        "import matplotlib.pyplot as plt; plt.rcdefaults()\n",
        "import numpy as np\n",
        "import matplotlib.pyplot as plt\n",
        "\n",
        "objects = ('installment','dti','fico','inq.last.6mths')\n",
        "y_pos = np.arange(len(objects))\n",
        "performance = [829.1,228.22,366.86,162.34,102.92]\n",
        "\n",
        "plt.bar(y_pos, performance, align='center', alpha=0.5)\n",
        "plt.xticks(y_pos, objects)\n",
        "\n",
        "\n",
        "plt.show()"
      ],
      "execution_count": 0,
      "outputs": []
    },
    {
      "cell_type": "code",
      "metadata": {
        "id": "Q_in_15HAqfR",
        "colab_type": "code",
        "colab": {
          "base_uri": "https://localhost:8080/",
          "height": 453
        },
        "outputId": "4837903d-ad85-48eb-f898-8065551c4366"
      },
      "source": [
        "\n",
        "data.plot(kind='scatter',x=['dti'] ,y=['revol.bal'])\n",
        "\n",
        "\n",
        "#plt.scatter(x=data['credit_policy'], y=data['installment'])\n",
        "plt.show()\n"
      ],
      "execution_count": 22,
      "outputs": [
        {
          "output_type": "display_data",
          "data": {
            "image/png": "[encoded data removed]",
            "text/plain": [
              "<Figure size 640x480 with 1 Axes>"
            ]
          },
          "metadata": {
            "tags": []
          }
        }
      ]
    },
    {
      "cell_type": "code",
      "metadata": {
        "id": "W3pZWJxqKOOM",
        "colab_type": "code",
        "colab": {
          "base_uri": "https://localhost:8080/",
          "height": 502
        },
        "outputId": "468d77fe-571a-4f8f-ccb8-ef2fdbbe9ee0"
      },
      "source": [
        "import matplotlib.pyplot as plt\n",
        "data.hist(column=['revol.util','int.rate'])"
      ],
      "execution_count": 23,
      "outputs": [
        {
          "output_type": "execute_result",
          "data": {
            "text/plain": [
              "array([[<matplotlib.axes._subplots.AxesSubplot object at 0x7f41afb5d1d0>,\n",
              "        <matplotlib.axes._subplots.AxesSubplot object at 0x7f41afa68e10>]],\n",
              "      dtype=object)"
            ]
          },
          "metadata": {
            "tags": []
          },
          "execution_count": 23
        },
        {
          "output_type": "display_data",
          "data": {
            "image/png": "[encoded data removed]",
            "text/plain": [
              "<Figure size 640x480 with 2 Axes>"
            ]
          },
          "metadata": {
            "tags": []
          }
        }
      ]
    },
    {
      "cell_type": "code",
      "metadata": {
        "id": "d2ztXspqNHj7",
        "colab_type": "code",
        "colab": {
          "base_uri": "https://localhost:8080/",
          "height": 50
        },
        "outputId": "3c939b60-6781-4982-b465-55ee5ca20417"
      },
      "source": [
        "c=np.array([[4,5,10],[5,10,15],[7,8,3]])\n",
        "print(c[0:2,1:3])\n"
      ],
      "execution_count": 32,
      "outputs": [
        {
          "output_type": "stream",
          "text": [
            "[[ 5 10]\n",
            " [10 15]]\n"
          ],
          "name": "stdout"
        }
      ]
    },
    {
      "cell_type": "code",
      "metadata": {
        "id": "i1rtXtIArVTt",
        "colab_type": "code",
        "colab": {}
      },
      "source": [
        "import pandas as pd\n",
        "import numpy as np\n",
        "import re\n",
        "import nltk\n",
        "import nltk.corpus \n",
        "import stopwords\n",
        "\n",
        "tr = pd.read_csv('TRAIN_info_SMS.csv')\n",
        "X = tr[['Label','Message']]\n",
        "#print(X)\n",
        "X.head(1)\n",
        "\n",
        "\n"
      ],
      "execution_count": 0,
      "outputs": []
    },
    {
      "cell_type": "code",
      "metadata": {
        "id": "57zR6_VOMA_M",
        "colab_type": "code",
        "colab": {
          "base_uri": "https://localhost:8080/",
          "height": 67
        },
        "outputId": "23ba0028-04b1-4e3b-ad63-f00762f1d5af"
      },
      "source": [
        "import pandas as pd\n",
        "import numpy as np\n",
        "import re\n",
        "import nltk\n",
        "from nltk.corpus import stopwords\n",
        "nltk.download('stopwords')\n",
        "  \n"
      ],
      "execution_count": 68,
      "outputs": [
        {
          "output_type": "stream",
          "text": [
            "[nltk_data] Downloading package stopwords to /root/nltk_data...\n",
            "[nltk_data]   Package stopwords is already up-to-date!\n"
          ],
          "name": "stdout"
        },
        {
          "output_type": "execute_result",
          "data": {
            "text/plain": [
              "True"
            ]
          },
          "metadata": {
            "tags": []
          },
          "execution_count": 68
        }
      ]
    },
    {
      "cell_type": "code",
      "metadata": {
        "id": "RTLW1NYiHxd9",
        "colab_type": "code",
        "colab": {
          "base_uri": "https://localhost:8080/",
          "height": 269
        },
        "outputId": "6eb6d5b1-9245-4845-c617-9cc7f6f26fb2"
      },
      "source": [
        "\n",
        "\n",
        "tr = pd.read_csv('TRAIN_info_SMS.csv')\n",
        "X = tr[['Label','Message']]\n",
        "#print(X)\n",
        "X.head(1)\n",
        "X = tr['Message']\n",
        "print(X[1])\n",
        "\n",
        "\n",
        "def  message_to_words(raw_message):\n",
        "  words = raw_message.lower().split()\n",
        "  stops = set (stopwords.words(\"english\"))\n",
        "  meaningful_words = [w for w in words if not w in stops]\n",
        "  return((meaningful_words))\n",
        "\n",
        "\n",
        "message_to_words(X[1])\n"
      ],
      "execution_count": 127,
      "outputs": [
        {
          "output_type": "stream",
          "text": [
            "Welcome to Southern University at Shreveport R.No. 449, 133, 527 Ch.In 2013-03-21 17:56 Ch.out 2013-04-08 12:00.\n"
          ],
          "name": "stdout"
        },
        {
          "output_type": "execute_result",
          "data": {
            "text/plain": [
              "['welcome',\n",
              " 'southern',\n",
              " 'university',\n",
              " 'shreveport',\n",
              " 'r.no.',\n",
              " '449,',\n",
              " '133,',\n",
              " '527',\n",
              " 'ch.in',\n",
              " '2013-03-21',\n",
              " '17:56',\n",
              " 'ch.out',\n",
              " '2013-04-08',\n",
              " '12:00.']"
            ]
          },
          "metadata": {
            "tags": []
          },
          "execution_count": 127
        }
      ]
    },
    {
      "cell_type": "code",
      "metadata": {
        "id": "SEOqVSgUNjcm",
        "colab_type": "code",
        "colab": {
          "base_uri": "https://localhost:8080/",
          "height": 84
        },
        "outputId": "139cf6ba-278e-4e69-9dce-69fc87a0489c"
      },
      "source": [
        "#initilize empty dictionaries\n",
        "Message = []\n",
        "Label = []\n",
        "for x in range(len(tr.Message)):\n",
        "  Message.append(message_to_words(str(tr.Message[x])))\n",
        "  Label.append(tr.Label[x])\n",
        "print(len(Label))\n",
        "\n",
        "print(len(Message))\n",
        "\n",
        "print(Label[1])\n",
        "print(Message[1])"
      ],
      "execution_count": 96,
      "outputs": [
        {
          "output_type": "stream",
          "text": [
            "12000\n",
            "12000\n",
            "Hotel\n",
            "['welcome', 'southern', 'university', 'shreveport', 'r.no.', '449,', '133,', '527', 'ch.in', '2013-03-21', '17:56', 'ch.out', '2013-04-08', '12:00.']\n"
          ],
          "name": "stdout"
        }
      ]
    },
    {
      "cell_type": "code",
      "metadata": {
        "id": "2XlqCYlIP72Q",
        "colab_type": "code",
        "colab": {
          "base_uri": "https://localhost:8080/",
          "height": 16834
        },
        "outputId": "47e14e71-b1b7-4ae1-8cd0-22c3449d8824"
      },
      "source": [
        "from sklearn.feature_extraction.text import CountVectorizer\n",
        "\n",
        "vectorizer = CountVectorizer(analyzer = \"word\",\\\n",
        "                              tokenizer = None,\\\n",
        "                              preprocessor = None,\n",
        "                              ngram_range = (1,1),\n",
        "                              max_features=1400,\n",
        "                              stop_words = None)\n",
        "\n",
        "data_features = vectorizer.fit_transform(tr.Message)\n",
        "type(data_features)\n",
        "vectorizer.get_feature_names()"
      ],
      "execution_count": 126,
      "outputs": [
        {
          "output_type": "execute_result",
          "data": {
            "text/plain": [
              "['00',\n",
              " '01',\n",
              " '02',\n",
              " '03',\n",
              " '04',\n",
              " '05',\n",
              " '06',\n",
              " '07',\n",
              " '08',\n",
              " '09',\n",
              " '10',\n",
              " '100',\n",
              " '101',\n",
              " '106',\n",
              " '109',\n",
              " '10hrs',\n",
              " '11',\n",
              " '11hrs',\n",
              " '12',\n",
              " '12hrs',\n",
              " '13',\n",
              " '137',\n",
              " '139',\n",
              " '13hrs',\n",
              " '14',\n",
              " '149',\n",
              " '14hrs',\n",
              " '15',\n",
              " '150',\n",
              " '154',\n",
              " '15hrs',\n",
              " '16',\n",
              " '162',\n",
              " '169',\n",
              " '16hrs',\n",
              " '17',\n",
              " '172',\n",
              " '175',\n",
              " '178',\n",
              " '17hrs',\n",
              " '18',\n",
              " '1800',\n",
              " '188',\n",
              " '18hrs',\n",
              " '19',\n",
              " '192',\n",
              " '197',\n",
              " '198',\n",
              " '19hrs',\n",
              " '20',\n",
              " '2009',\n",
              " '201',\n",
              " '2010',\n",
              " '2011',\n",
              " '2012',\n",
              " '2013',\n",
              " '2014',\n",
              " '2015',\n",
              " '203',\n",
              " '20hrs',\n",
              " '21',\n",
              " '210',\n",
              " '213',\n",
              " '215',\n",
              " '216',\n",
              " '21hrs',\n",
              " '22',\n",
              " '221',\n",
              " '224',\n",
              " '226',\n",
              " '227',\n",
              " '229',\n",
              " '22hrs',\n",
              " '23',\n",
              " '230',\n",
              " '238',\n",
              " '23hrs',\n",
              " '24',\n",
              " '240',\n",
              " '241',\n",
              " '242',\n",
              " '243',\n",
              " '246',\n",
              " '249',\n",
              " '24hrs',\n",
              " '25',\n",
              " '250',\n",
              " '253',\n",
              " '258',\n",
              " '25hrs',\n",
              " '26',\n",
              " '263',\n",
              " '268',\n",
              " '26hrs',\n",
              " '27',\n",
              " '270',\n",
              " '276',\n",
              " '278',\n",
              " '27hrs',\n",
              " '28',\n",
              " '280',\n",
              " '281',\n",
              " '282',\n",
              " '283',\n",
              " '284',\n",
              " '288',\n",
              " '28hrs',\n",
              " '29',\n",
              " '298',\n",
              " '29hrs',\n",
              " '30',\n",
              " '301',\n",
              " '304',\n",
              " '307',\n",
              " '30hrs',\n",
              " '31',\n",
              " '315',\n",
              " '317',\n",
              " '31hrs',\n",
              " '32',\n",
              " '323',\n",
              " '324',\n",
              " '327',\n",
              " '329',\n",
              " '32hrs',\n",
              " '33',\n",
              " '330',\n",
              " '337',\n",
              " '33hrs',\n",
              " '34',\n",
              " '342',\n",
              " '348',\n",
              " '34hrs',\n",
              " '35',\n",
              " '351',\n",
              " '353',\n",
              " '356',\n",
              " '35hrs',\n",
              " '36',\n",
              " '360',\n",
              " '365',\n",
              " '36hrs',\n",
              " '37',\n",
              " '378',\n",
              " '37hrs',\n",
              " '38',\n",
              " '381',\n",
              " '384',\n",
              " '385',\n",
              " '38hrs',\n",
              " '39',\n",
              " '395',\n",
              " '396',\n",
              " '398',\n",
              " '39hrs',\n",
              " '40',\n",
              " '401',\n",
              " '403',\n",
              " '40hrs',\n",
              " '41',\n",
              " '415',\n",
              " '418',\n",
              " '41hrs',\n",
              " '42',\n",
              " '421',\n",
              " '422',\n",
              " '425',\n",
              " '42hrs',\n",
              " '43',\n",
              " '431',\n",
              " '432',\n",
              " '433',\n",
              " '435',\n",
              " '43hrs',\n",
              " '44',\n",
              " '444',\n",
              " '448',\n",
              " '44hrs',\n",
              " '45',\n",
              " '451',\n",
              " '453',\n",
              " '459',\n",
              " '45hrs',\n",
              " '46',\n",
              " '461',\n",
              " '466',\n",
              " '46hrs',\n",
              " '47',\n",
              " '479',\n",
              " '47hrs',\n",
              " '48',\n",
              " '481',\n",
              " '488',\n",
              " '48hrs',\n",
              " '49',\n",
              " '490',\n",
              " '494',\n",
              " '498',\n",
              " '49hrs',\n",
              " '4k',\n",
              " '50',\n",
              " '504',\n",
              " '505',\n",
              " '507',\n",
              " '50hrs',\n",
              " '51',\n",
              " '511',\n",
              " '512',\n",
              " '516',\n",
              " '51hrs',\n",
              " '52',\n",
              " '520',\n",
              " '528',\n",
              " '529',\n",
              " '52hrs',\n",
              " '53',\n",
              " '534',\n",
              " '537',\n",
              " '538',\n",
              " '539',\n",
              " '53hrs',\n",
              " '54',\n",
              " '546',\n",
              " '548',\n",
              " '54hrs',\n",
              " '55',\n",
              " '55hrs',\n",
              " '56',\n",
              " '565',\n",
              " '56hrs',\n",
              " '57',\n",
              " '573',\n",
              " '57hrs',\n",
              " '58',\n",
              " '58hrs',\n",
              " '59',\n",
              " '596',\n",
              " '599',\n",
              " '60',\n",
              " '61',\n",
              " '62',\n",
              " '63',\n",
              " '64',\n",
              " '65',\n",
              " '66',\n",
              " '67',\n",
              " '68',\n",
              " '69',\n",
              " '71',\n",
              " '72',\n",
              " '73',\n",
              " '74',\n",
              " '75',\n",
              " '76',\n",
              " '77',\n",
              " '78',\n",
              " '79',\n",
              " '80',\n",
              " '81',\n",
              " '82',\n",
              " '83',\n",
              " '84',\n",
              " '85',\n",
              " '86',\n",
              " '87',\n",
              " '88',\n",
              " 'a10',\n",
              " 'a11',\n",
              " 'a12',\n",
              " 'a13',\n",
              " 'a14',\n",
              " 'a15',\n",
              " 'a16',\n",
              " 'a17',\n",
              " 'a18',\n",
              " 'a19',\n",
              " 'a20',\n",
              " 'a3',\n",
              " 'a4',\n",
              " 'a5',\n",
              " 'a6',\n",
              " 'a7',\n",
              " 'a8',\n",
              " 'a9',\n",
              " 'aaron',\n",
              " 'abraham',\n",
              " 'ac',\n",
              " 'ac3',\n",
              " 'accountant',\n",
              " 'adam',\n",
              " 'adrian',\n",
              " 'age',\n",
              " 'agency',\n",
              " 'agr',\n",
              " 'agumbe',\n",
              " 'agx',\n",
              " 'aidan',\n",
              " 'aiden',\n",
              " 'air',\n",
              " 'airasia',\n",
              " 'aircel',\n",
              " 'airport',\n",
              " 'airporttaxi',\n",
              " 'airtel',\n",
              " 'airways',\n",
              " 'ajl',\n",
              " 'akd',\n",
              " 'al',\n",
              " 'alan',\n",
              " 'alejandro',\n",
              " 'alex',\n",
              " 'alexander',\n",
              " 'alexis',\n",
              " 'alice',\n",
              " 'alike',\n",
              " 'allegiant',\n",
              " 'along',\n",
              " 'amd',\n",
              " 'america',\n",
              " 'amt',\n",
              " 'an',\n",
              " 'and',\n",
              " 'andre',\n",
              " 'andres',\n",
              " 'andrew',\n",
              " 'andy',\n",
              " 'angel',\n",
              " 'angry',\n",
              " 'anjan',\n",
              " 'antonio',\n",
              " 'anwatti',\n",
              " 'apocalypse',\n",
              " 'app',\n",
              " 'apply',\n",
              " 'appointment',\n",
              " 'appt',\n",
              " 'arcade',\n",
              " 'arena',\n",
              " 'arrival',\n",
              " 'aryan',\n",
              " 'ashton',\n",
              " 'assigned',\n",
              " 'assistance',\n",
              " 'at',\n",
              " 'atq',\n",
              " 'attending',\n",
              " 'austin',\n",
              " 'auto',\n",
              " 'avery',\n",
              " 'ayden',\n",
              " 'b1',\n",
              " 'b10',\n",
              " 'b11',\n",
              " 'b12',\n",
              " 'b13',\n",
              " 'b14',\n",
              " 'b15',\n",
              " 'b16',\n",
              " 'b17',\n",
              " 'b18',\n",
              " 'b19',\n",
              " 'b2',\n",
              " 'b3',\n",
              " 'b4',\n",
              " 'b5',\n",
              " 'b6',\n",
              " 'b7',\n",
              " 'b8',\n",
              " 'b9',\n",
              " 'bad',\n",
              " 'bakery',\n",
              " 'banaswadi',\n",
              " 'bank',\n",
              " 'bannerghatta',\n",
              " 'bar',\n",
              " 'barbeque',\n",
              " 'batman',\n",
              " 'bay',\n",
              " 'bbai',\n",
              " 'bbi',\n",
              " 'bbq',\n",
              " 'bc',\n",
              " 'bco',\n",
              " 'bcob',\n",
              " 'bdq',\n",
              " 'bdts',\n",
              " 'beach',\n",
              " 'beasts',\n",
              " 'been',\n",
              " 'bek',\n",
              " 'belagavi',\n",
              " 'bellandur',\n",
              " 'bengaluru',\n",
              " 'benjamin',\n",
              " 'bep',\n",
              " 'beyond',\n",
              " 'bfm',\n",
              " 'bft',\n",
              " 'bgp',\n",
              " 'bgq',\n",
              " 'bgvn',\n",
              " 'bhj',\n",
              " 'bho',\n",
              " 'bhu',\n",
              " 'big',\n",
              " 'bijr',\n",
              " 'bill',\n",
              " 'bimal',\n",
              " 'binnypet',\n",
              " 'birds',\n",
              " 'bk',\n",
              " 'bkb',\n",
              " 'blake',\n",
              " 'blg',\n",
              " 'blr',\n",
              " 'blu',\n",
              " 'blue',\n",
              " 'bmck',\n",
              " 'bnvd',\n",
              " 'boardingpt',\n",
              " 'boke',\n",
              " 'bom',\n",
              " 'boo',\n",
              " 'book',\n",
              " 'booking',\n",
              " 'bourne',\n",
              " 'boy',\n",
              " 'bphb',\n",
              " 'bqu',\n",
              " 'braden',\n",
              " 'bradley',\n",
              " 'brady',\n",
              " 'brandon',\n",
              " 'brayden',\n",
              " 'breathe',\n",
              " 'brendan',\n",
              " 'brett',\n",
              " 'brian',\n",
              " 'bridge',\n",
              " 'brigade',\n",
              " 'broadband',\n",
              " 'brody',\n",
              " 'brookefield',\n",
              " 'brown',\n",
              " 'bryan',\n",
              " 'bryce',\n",
              " 'bryson',\n",
              " 'bshrs',\n",
              " 'bsnl',\n",
              " 'bttr',\n",
              " 'buffet',\n",
              " 'bup',\n",
              " 'burger',\n",
              " 'bus',\n",
              " 'by',\n",
              " 'byc',\n",
              " 'c1',\n",
              " 'c10',\n",
              " 'c11',\n",
              " 'c12',\n",
              " 'c13',\n",
              " 'c14',\n",
              " 'c15',\n",
              " 'c16',\n",
              " 'c17',\n",
              " 'c18',\n",
              " 'c2',\n",
              " 'c3',\n",
              " 'c4',\n",
              " 'c5',\n",
              " 'c6',\n",
              " 'c7',\n",
              " 'c8',\n",
              " 'c9',\n",
              " 'cab',\n",
              " 'caden',\n",
              " 'caf',\n",
              " 'cafe',\n",
              " 'caleb',\n",
              " 'call',\n",
              " 'calvin',\n",
              " 'camden',\n",
              " 'cameron',\n",
              " 'can',\n",
              " 'captain',\n",
              " 'car',\n",
              " 'card',\n",
              " 'carlos',\n",
              " 'carnival',\n",
              " 'carry',\n",
              " 'carson',\n",
              " 'carter',\n",
              " 'case',\n",
              " 'cauvery',\n",
              " 'cayden',\n",
              " 'cc',\n",
              " 'ccj',\n",
              " 'ccu',\n",
              " 'cdp',\n",
              " 'cell',\n",
              " 'center',\n",
              " 'central',\n",
              " 'cesar',\n",
              " 'ch',\n",
              " 'chair',\n",
              " 'channarayapatna',\n",
              " 'charles',\n",
              " 'chase',\n",
              " 'chauffer',\n",
              " 'check',\n",
              " 'chennai',\n",
              " 'chicken',\n",
              " 'chikkamagaluru',\n",
              " 'children',\n",
              " 'chitradurga',\n",
              " 'choosing',\n",
              " 'christian',\n",
              " 'cinema',\n",
              " 'cinemas',\n",
              " 'cinepolis',\n",
              " 'city',\n",
              " 'civil',\n",
              " 'cjb',\n",
              " 'class',\n",
              " 'clayton',\n",
              " 'cloverfield',\n",
              " 'co',\n",
              " 'code',\n",
              " 'cody',\n",
              " 'coffee',\n",
              " 'coh',\n",
              " 'coimbatore',\n",
              " 'cok',\n",
              " 'colby',\n",
              " 'cole',\n",
              " 'colin',\n",
              " 'collection',\n",
              " 'college',\n",
              " 'collin',\n",
              " 'collision',\n",
              " 'colton',\n",
              " 'com',\n",
              " 'company',\n",
              " 'confirmed',\n",
              " 'conjuring',\n",
              " 'conner',\n",
              " 'connor',\n",
              " 'contact',\n",
              " 'coonur',\n",
              " 'cooper',\n",
              " 'corey',\n",
              " 'corp',\n",
              " 'counter',\n",
              " 'course',\n",
              " 'cream',\n",
              " 'creamery',\n",
              " 'cristian',\n",
              " 'custard',\n",
              " 'customer',\n",
              " 'd10',\n",
              " 'd11',\n",
              " 'd12',\n",
              " 'd13',\n",
              " 'd14',\n",
              " 'd15',\n",
              " 'd16',\n",
              " 'd17',\n",
              " 'd18',\n",
              " 'd19',\n",
              " 'd2',\n",
              " 'd20',\n",
              " 'd21',\n",
              " 'd3',\n",
              " 'd4',\n",
              " 'd5',\n",
              " 'd6',\n",
              " 'd7',\n",
              " 'd8',\n",
              " 'd9',\n",
              " 'dae',\n",
              " 'dakota',\n",
              " 'dalton',\n",
              " 'damian',\n",
              " 'damien',\n",
              " 'daniel',\n",
              " 'date',\n",
              " 'dated',\n",
              " 'davanegere',\n",
              " 'david',\n",
              " 'dawn',\n",
              " 'dawson',\n",
              " 'day',\n",
              " 'days',\n",
              " 'dc',\n",
              " 'de',\n",
              " 'deadpool',\n",
              " 'dear',\n",
              " 'ded',\n",
              " 'del',\n",
              " 'delayed',\n",
              " 'delivery',\n",
              " 'dep',\n",
              " 'deptime',\n",
              " 'derek',\n",
              " 'derrick',\n",
              " 'devin',\n",
              " 'devon',\n",
              " 'dharmastala',\n",
              " 'dhm',\n",
              " 'dib',\n",
              " 'diego',\n",
              " 'digital',\n",
              " 'dillon',\n",
              " 'diner',\n",
              " 'dinner',\n",
              " 'discount',\n",
              " 'diu',\n",
              " 'dmu',\n",
              " 'docomo',\n",
              " 'doctor',\n",
              " 'doj',\n",
              " 'dominic',\n",
              " 'dominick',\n",
              " 'don',\n",
              " 'donovan',\n",
              " 'donuts',\n",
              " 'dory',\n",
              " 'dr',\n",
              " 'dragon',\n",
              " 'drake',\n",
              " 'drew',\n",
              " 'drivein',\n",
              " 'due',\n",
              " 'during',\n",
              " 'dustin',\n",
              " 'dylan',\n",
              " 'e10',\n",
              " 'e11',\n",
              " 'e12',\n",
              " 'e13',\n",
              " 'e14',\n",
              " 'e15',\n",
              " 'e16',\n",
              " 'e17',\n",
              " 'e18',\n",
              " 'e2',\n",
              " 'e3',\n",
              " 'e4',\n",
              " 'e5',\n",
              " 'e6',\n",
              " 'e7',\n",
              " 'e8',\n",
              " 'e9',\n",
              " 'east',\n",
              " 'edgar',\n",
              " 'eduardo',\n",
              " 'edward',\n",
              " 'edwin',\n",
              " 'election',\n",
              " 'elements',\n",
              " 'eli',\n",
              " 'elias',\n",
              " 'elijah',\n",
              " 'emergency',\n",
              " 'emmanuel',\n",
              " 'enjoy',\n",
              " 'eric',\n",
              " 'erick',\n",
              " 'erik',\n",
              " 'ernakulam',\n",
              " 'est',\n",
              " 'etd',\n",
              " 'ethan',\n",
              " 'evan',\n",
              " 'f1',\n",
              " 'f10',\n",
              " 'f11',\n",
              " 'f12',\n",
              " 'f13',\n",
              " 'f14',\n",
              " 'f15',\n",
              " 'f16',\n",
              " 'f17',\n",
              " 'f18',\n",
              " 'f19',\n",
              " 'f2',\n",
              " 'f3',\n",
              " 'f4',\n",
              " 'f5',\n",
              " 'f6',\n",
              " 'f7',\n",
              " 'f8',\n",
              " 'f9',\n",
              " 'falls',\n",
              " 'famous',\n",
              " 'fantastic',\n",
              " 'fare',\n",
              " 'fc',\n",
              " 'fernando',\n",
              " 'field',\n",
              " 'figures',\n",
              " 'find',\n",
              " 'finding',\n",
              " 'first',\n",
              " 'fixedline',\n",
              " 'flt',\n",
              " 'food',\n",
              " 'for',\n",
              " 'fort',\n",
              " 'forum',\n",
              " 'francisco',\n",
              " 'frank',\n",
              " 'from',\n",
              " 'frozen',\n",
              " 'fu',\n",
              " 'fun',\n",
              " 'g10',\n",
              " 'g11',\n",
              " 'g12',\n",
              " 'g13',\n",
              " 'g14',\n",
              " 'g15',\n",
              " 'g16',\n",
              " 'g17',\n",
              " 'g18',\n",
              " 'g19',\n",
              " 'g4',\n",
              " 'g5',\n",
              " 'g6',\n",
              " 'g7',\n",
              " 'g8',\n",
              " 'g9',\n",
              " 'gabriel',\n",
              " 'gage',\n",
              " 'gandhinagar',\n",
              " 'garrett',\n",
              " 'garuda',\n",
              " 'gau',\n",
              " 'gavin',\n",
              " 'gay',\n",
              " 'generated',\n",
              " 'george',\n",
              " 'gerardo',\n",
              " 'get',\n",
              " 'ghostbusters',\n",
              " 'giovanni',\n",
              " 'girl',\n",
              " 'glass',\n",
              " 'goa',\n",
              " 'gold',\n",
              " 'gop',\n",
              " 'gopalan',\n",
              " 'grand',\n",
              " 'grant',\n",
              " 'gregory',\n",
              " 'griffin',\n",
              " 'grill',\n",
              " 'gt',\n",
              " 'guest',\n",
              " 'gwl',\n",
              " 'h10',\n",
              " 'h11',\n",
              " 'h12',\n",
              " 'h13',\n",
              " 'h14',\n",
              " 'h15',\n",
              " 'h16',\n",
              " 'h17',\n",
              " 'h18',\n",
              " 'h3',\n",
              " 'h4',\n",
              " 'h5',\n",
              " 'h6',\n",
              " 'h7',\n",
              " 'h8',\n",
              " 'h9',\n",
              " 'hacksaw',\n",
              " 'halloween',\n",
              " 'harrison',\n",
              " 'has',\n",
              " 'hassan',\n",
              " 'hayden',\n",
              " 'hbx',\n",
              " 'hector',\n",
              " 'henry',\n",
              " 'hi',\n",
              " 'hidden',\n",
              " 'hiriyur',\n",
              " 'hjr',\n",
              " 'hold',\n",
              " 'home',\n",
              " 'hospital',\n",
              " 'hot',\n",
              " 'hotel',\n",
              " 'house',\n",
              " 'hrs',\n",
              " 'hubli',\n",
              " 'hundimala',\n",
              " 'hunter',\n",
              " 'hyd',\n",
              " 'hyderabad',\n",
              " 'hyundai',\n",
              " 'i10',\n",
              " 'i11',\n",
              " 'i12',\n",
              " 'i13',\n",
              " 'i14',\n",
              " 'i15',\n",
              " 'i16',\n",
              " 'i17',\n",
              " 'i2',\n",
              " 'i3',\n",
              " 'i4',\n",
              " 'i5',\n",
              " 'i6',\n",
              " 'i7',\n",
              " 'i8',\n",
              " 'i9',\n",
              " 'ian',\n",
              " 'ice',\n",
              " 'id',\n",
              " 'idea',\n",
              " 'idr',\n",
              " 'imf',\n",
              " 'in',\n",
              " 'independence',\n",
              " 'india',\n",
              " 'indigo',\n",
              " 'inn',\n",
              " 'innovative',\n",
              " 'inox',\n",
              " 'ins',\n",
              " 'institute',\n",
              " 'intelligence',\n",
              " 'international',\n",
              " 'is',\n",
              " 'isaac',\n",
              " 'isaiah',\n",
              " 'isk',\n",
              " 'island',\n",
              " 'israel',\n",
              " 'ivan',\n",
              " 'ixe',\n",
              " 'ixm',\n",
              " 'j10',\n",
              " 'j11',\n",
              " 'j12',\n",
              " 'j13',\n",
              " 'j14',\n",
              " 'j15',\n",
              " 'j16',\n",
              " 'j17',\n",
              " 'j18',\n",
              " 'j2',\n",
              " 'j3',\n",
              " 'j4',\n",
              " 'j5',\n",
              " 'j6',\n",
              " 'j7',\n",
              " 'j8',\n",
              " 'j9',\n",
              " 'jace',\n",
              " 'jack',\n",
              " 'jackson',\n",
              " 'jacob',\n",
              " 'jaden',\n",
              " 'jai',\n",
              " 'jaiden',\n",
              " 'jake',\n",
              " 'jalen',\n",
              " 'james',\n",
              " 'jared',\n",
              " 'jason',\n",
              " 'javier',\n",
              " 'jaxon',\n",
              " 'jayanagar',\n",
              " 'jayden',\n",
              " 'jaylen',\n",
              " 'jdh',\n",
              " 'jeffrey',\n",
              " 'jeremiah',\n",
              " 'jeremy',\n",
              " 'jesse',\n",
              " 'jesus',\n",
              " 'jet',\n",
              " 'jga',\n",
              " 'jgb',\n",
              " 'jio',\n",
              " 'jlr',\n",
              " 'jnydate',\n",
              " 'joe',\n",
              " 'joel',\n",
              " 'john',\n",
              " 'johnathan',\n",
              " 'johnny',\n",
              " 'jonah',\n",
              " 'jonathan',\n",
              " 'jordan',\n",
              " 'jorge',\n",
              " 'jose',\n",
              " 'joseph',\n",
              " 'joshua',\n",
              " 'josiah',\n",
              " 'josue',\n",
              " 'journey',\n",
              " 'jp',\n",
              " 'jrh',\n",
              " 'jsa',\n",
              " 'juan',\n",
              " 'julian',\n",
              " 'julio',\n",
              " 'junction',\n",
              " 'jungle',\n",
              " 'justice',\n",
              " 'justin',\n",
              " 'k10',\n",
              " 'k11',\n",
              " 'k12',\n",
              " 'k13',\n",
              " 'k14',\n",
              " 'k15',\n",
              " 'k16',\n",
              " 'k17',\n",
              " 'k18',\n",
              " 'k3',\n",
              " 'k4',\n",
              " 'k5',\n",
              " 'k6',\n",
              " 'k7',\n",
              " 'k8',\n",
              " 'k9',\n",
              " 'kaden',\n",
              " 'kai',\n",
              " 'kaiden',\n",
              " 'kaleb',\n",
              " 'kannur',\n",
              " 'karaikudi',\n",
              " 'kasargod',\n",
              " 'keegan',\n",
              " 'kenneth',\n",
              " 'kevin',\n",
              " 'kial',\n",
              " 'klh',\n",
              " 'kodaikanal',\n",
              " 'kolar',\n",
              " 'kolhapur',\n",
              " 'kottayam',\n",
              " 'kozhikode',\n",
              " 'ksrtc',\n",
              " 'ktu',\n",
              " 'kumbakonam',\n",
              " 'kundapura',\n",
              " 'kung',\n",
              " 'kuu',\n",
              " 'kyle',\n",
              " 'l10',\n",
              " 'l11',\n",
              " 'l12',\n",
              " 'l13',\n",
              " 'l14',\n",
              " 'l15',\n",
              " 'l16',\n",
              " 'l17',\n",
              " 'l2',\n",
              " 'l3',\n",
              " 'l4',\n",
              " 'l5',\n",
              " 'l6',\n",
              " 'l7',\n",
              " 'l8',\n",
              " 'l9',\n",
              " 'la',\n",
              " 'lakshmi',\n",
              " 'land',\n",
              " 'landen',\n",
              " 'landon',\n",
              " 'lane',\n",
              " 'lda',\n",
              " 'legend',\n",
              " 'leonardo',\n",
              " 'levi',\n",
              " 'liam',\n",
              " 'lido',\n",
              " 'life',\n",
              " 'lights',\n",
              " 'lko',\n",
              " 'logan',\n",
              " 'looking',\n",
              " 'lounge',\n",
              " 'lucas',\n",
              " 'luh',\n",
              " 'luis',\n",
              " 'luke',\n",
              " 'm10',\n",
              " 'm11',\n",
              " 'm12',\n",
              " 'm13',\n",
              " 'm14',\n",
              " 'm15',\n",
              " 'm16',\n",
              " ...]"
            ]
          },
          "metadata": {
            "tags": []
          },
          "execution_count": 126
        }
      ]
    },
    {
      "cell_type": "code",
      "metadata": {
        "id": "4lhhrsXZYDGI",
        "colab_type": "code",
        "colab": {
          "base_uri": "https://localhost:8080/",
          "height": 134
        },
        "outputId": "7bde4a7e-152e-40d6-d54f-ee2f8640cf0d"
      },
      "source": [
        "x = data_features.toarray()\n",
        "print(x)"
      ],
      "execution_count": 109,
      "outputs": [
        {
          "output_type": "stream",
          "text": [
            "[[0 0 0 ... 0 0 0]\n",
            " [1 0 0 ... 0 0 0]\n",
            " [0 3 0 ... 0 0 0]\n",
            " ...\n",
            " [0 0 1 ... 0 0 0]\n",
            " [0 1 0 ... 0 0 0]\n",
            " [0 0 0 ... 0 0 0]]\n"
          ],
          "name": "stdout"
        }
      ]
    },
    {
      "cell_type": "code",
      "metadata": {
        "id": "uTHaCF2WaOUs",
        "colab_type": "code",
        "colab": {}
      },
      "source": [
        "\n",
        "tr = pd.read_csv('TRAIN_info_SMS.csv')\n",
        "y = tr[['Label']]\n"
      ],
      "execution_count": 0,
      "outputs": []
    },
    {
      "cell_type": "code",
      "metadata": {
        "id": "uC2TvQKHbiRT",
        "colab_type": "code",
        "colab": {}
      },
      "source": [
        "\n",
        "tr[\"Label\"]=tr[\"Label\"].map({\n",
        "              'Appointment': '0', 'Bus':'1', \n",
        "              'Cab':'2', 'Delivery':'3', \n",
        "              'Expiry':'4', 'Flight':'5',\n",
        "              'Hotel':'6', 'Movie':'7',\n",
        "              'Payment':'8', 'PickUp':'9',\n",
        "              'Reservation':'10', 'Train':'11'}) \n",
        " \n",
        "print(tr[\"Label\"])"
      ],
      "execution_count": 0,
      "outputs": []
    },
    {
      "cell_type": "code",
      "metadata": {
        "id": "41Qn6m4-cfgb",
        "colab_type": "code",
        "colab": {}
      },
      "source": [
        "from sklearn.naive_bayes import MultinomialNB\n",
        "from sklearn import metrics\n",
        "Mnb=MultinomialNB()\n",
        "Mnb.fit(x,y)\n",
        "preds_NB=Mnb.predict(x)\n",
        "\n",
        "metrics.confusion_matrix(y,preds_NB) \n",
        "\n"
      ],
      "execution_count": 0,
      "outputs": []
    },
    {
      "cell_type": "code",
      "metadata": {
        "id": "3DtYMqnudzBr",
        "colab_type": "code",
        "colab": {
          "base_uri": "https://localhost:8080/",
          "height": 50
        },
        "outputId": "82d1cca2-77b3-40c9-cd86-39d9dff09897"
      },
      "source": [
        "from sklearn.metrics import accuracy_score\n",
        "from sklearn.metrics import recall_score\n",
        "\n",
        "accuracy = accuracy_score(y,preds_NB)\n",
        "print(accuracy)\n",
        "recall = recall_score(y,preds_NB,average=None)\n",
        "print(recall)"
      ],
      "execution_count": 137,
      "outputs": [
        {
          "output_type": "stream",
          "text": [
            "1.0\n",
            "[1. 1. 1. 1. 1. 1. 1. 1. 1. 1. 1. 1.]\n"
          ],
          "name": "stdout"
        }
      ]
    },
    {
      "cell_type": "code",
      "metadata": {
        "id": "M7NLhaJxeCg4",
        "colab_type": "code",
        "colab": {}
      },
      "source": [
        ""
      ],
      "execution_count": 0,
      "outputs": []
    }
  ]
}