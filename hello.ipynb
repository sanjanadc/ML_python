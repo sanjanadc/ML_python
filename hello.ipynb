{
  "nbformat": 4,
  "nbformat_minor": 0,
  "metadata": {
    "colab": {
      "name": "hello.ipynb",
      "version": "0.3.2",
      "provenance": [],
      "collapsed_sections": []
    },
    "kernelspec": {
      "name": "python3",
      "display_name": "Python 3"
    }
  },
  "cells": [
    {
      "cell_type": "code",
      "metadata": {
        "id": "xqgz3sWZ273h",
        "colab_type": "code",
        "colab": {
          "base_uri": "https://localhost:8080/",
          "height": 34
        },
        "outputId": "ba94e957-24a9-4e5b-9ba7-c90197bde278"
      },
      "source": [
        "print (\"hello world\");\n",
        "\n",
        "\n",
        "\n",
        "\n",
        "\n",
        "\n",
        "\n"
      ],
      "execution_count": 3,
      "outputs": [
        {
          "output_type": "stream",
          "text": [
            "hello world\n"
          ],
          "name": "stdout"
        }
      ]
    },
    {
      "cell_type": "code",
      "metadata": {
        "id": "jEJMflyK28h1",
        "colab_type": "code",
        "colab": {
          "base_uri": "https://localhost:8080/",
          "height": 50
        },
        "outputId": "a5e8a668-e290-4afc-fd25-1153c0e14c27"
      },
      "source": [
        "import numpy as np\n",
        "L1 = [2,4,6,8,10]\n",
        "L2 = [1,3,5,7,9]\n",
        "print (np.add(L1,L2));\n",
        "san = np.array([2,4,6,8,10])\n",
        "print (san * 2);\n",
        "\n"
      ],
      "execution_count": 19,
      "outputs": [
        {
          "output_type": "stream",
          "text": [
            "[ 3  7 11 15 19]\n",
            "[ 4  8 12 16 20]\n"
          ],
          "name": "stdout"
        }
      ]
    },
    {
      "cell_type": "code",
      "metadata": {
        "id": "oLe3Pwho65vn",
        "colab_type": "code",
        "colab": {
          "base_uri": "https://localhost:8080/",
          "height": 50
        },
        "outputId": "17452828-5176-466a-cd4f-19ac20051e4c"
      },
      "source": [
        "angle = list(range(0,360,30))\n",
        "print(angle);\n",
        "i1 = index.angle[90]\n",
        "i2 = angle[270]\n",
        "i1_rev = len(angle)-9\n",
        "i2_rev = len(angle)-3\n",
        "new =  angle[3:10][::-1]\n",
        "print(new)\n",
        "\n"
      ],
      "execution_count": 21,
      "outputs": [
        {
          "output_type": "stream",
          "text": [
            "[0, 30, 60, 90, 120, 150, 180, 210, 240, 270, 300, 330]\n",
            "[270, 240, 210, 180, 150, 120, 90]\n"
          ],
          "name": "stdout"
        }
      ]
    },
    {
      "cell_type": "code",
      "metadata": {
        "id": "auj0rBKld9Jd",
        "colab_type": "code",
        "colab": {
          "base_uri": "https://localhost:8080/",
          "height": 50
        },
        "outputId": "2a4f8851-afa3-47be-83d7-15db17d75549"
      },
      "source": [
        "L1 = [1, 2, 3]\n",
        "L2 = L1\n",
        "print(L2)\n",
        "L2.remove(3)\n",
        "print(L2)\n",
        "L1\n",
        "L4 = L1.copy()\n",
        "L3=L1[:]\n",
        "\n",
        "\n",
        "\n",
        "\n"
      ],
      "execution_count": 22,
      "outputs": [
        {
          "output_type": "stream",
          "text": [
            "[1, 2, 3]\n",
            "[1, 2]\n"
          ],
          "name": "stdout"
        }
      ]
    },
    {
      "cell_type": "code",
      "metadata": {
        "id": "eOsoTfWOoojF",
        "colab_type": "code",
        "colab": {
          "base_uri": "https://localhost:8080/",
          "height": 246
        },
        "outputId": "f2e50390-e02c-4716-8bae-f481450f8e7a"
      },
      "source": [
        "tup1 = (12, 34);\n",
        "tup2 = ('abc', 'xyz');\n",
        "\n",
        "\n",
        "tup3 = tup1 + tup2;\n",
        "print(tup3)\n",
        "\n",
        "tup3.remove(12)\n",
        "\n",
        "\n"
      ],
      "execution_count": 12,
      "outputs": [
        {
          "output_type": "stream",
          "text": [
            "(12, 34, 'abc', 'xyz')\n"
          ],
          "name": "stdout"
        },
        {
          "output_type": "error",
          "ename": "AttributeError",
          "evalue": "ignored",
          "traceback": [
            "\u001b[0;31m---------------------------------------------------------------------------\u001b[0m",
            "\u001b[0;31mAttributeError\u001b[0m                            Traceback (most recent call last)",
            "\u001b[0;32m<ipython-input-12-0a4ef1c51f9f>\u001b[0m in \u001b[0;36m<module>\u001b[0;34m()\u001b[0m\n\u001b[1;32m      6\u001b[0m \u001b[0mprint\u001b[0m\u001b[0;34m(\u001b[0m\u001b[0mtup3\u001b[0m\u001b[0;34m)\u001b[0m\u001b[0;34m\u001b[0m\u001b[0;34m\u001b[0m\u001b[0m\n\u001b[1;32m      7\u001b[0m \u001b[0;34m\u001b[0m\u001b[0m\n\u001b[0;32m----> 8\u001b[0;31m \u001b[0mtup3\u001b[0m\u001b[0;34m.\u001b[0m\u001b[0mremove\u001b[0m\u001b[0;34m(\u001b[0m\u001b[0;36m12\u001b[0m\u001b[0;34m)\u001b[0m\u001b[0;34m\u001b[0m\u001b[0;34m\u001b[0m\u001b[0m\n\u001b[0m\u001b[1;32m      9\u001b[0m \u001b[0;34m\u001b[0m\u001b[0m\n\u001b[1;32m     10\u001b[0m \u001b[0;34m\u001b[0m\u001b[0m\n",
            "\u001b[0;31mAttributeError\u001b[0m: 'tuple' object has no attribute 'remove'"
          ]
        }
      ]
    },
    {
      "cell_type": "code",
      "metadata": {
        "id": "6OnpIIwnyIt0",
        "colab_type": "code",
        "colab": {
          "base_uri": "https://localhost:8080/",
          "height": 50
        },
        "outputId": "4d68c2dc-fdd9-478b-d9f3-2fb76e3f05fd"
      },
      "source": [
        "states = {'AP': [100, 'HYD',False], 'Assam':[200,'dispur', False], 'Bihar' : [200,'patna',True]}\n",
        "\n",
        "print(states.get('Bihar'))\n",
        "states['telangana']= ['hyd', True]\n",
        "print(states)"
      ],
      "execution_count": 26,
      "outputs": [
        {
          "output_type": "stream",
          "text": [
            "[200, 'patna', True]\n",
            "{'AP': [100, 'HYD', False], 'Assam': [200, 'dispur', False], 'Bihar': [200, 'patna', True], 'telangana': ['hyd', True]}\n"
          ],
          "name": "stdout"
        }
      ]
    },
    {
      "cell_type": "code",
      "metadata": {
        "id": "-QQd-aDP-urV",
        "colab_type": "code",
        "colab": {
          "base_uri": "https://localhost:8080/",
          "height": 34
        },
        "outputId": "4e09a069-f5bf-4f0f-a2ad-6d2b2c84f1d7"
      },
      "source": [
        "def deg_rad(angle):\n",
        "  radian = angle*(3.14/180)\n",
        "  return radian\n",
        "\n",
        "deg_rad(360)\n"
      ],
      "execution_count": 30,
      "outputs": [
        {
          "output_type": "execute_result",
          "data": {
            "text/plain": [
              "6.280000000000001"
            ]
          },
          "metadata": {
            "tags": []
          },
          "execution_count": 30
        }
      ]
    },
    {
      "cell_type": "code",
      "metadata": {
        "id": "GBpPb87eBuV1",
        "colab_type": "code",
        "colab": {}
      },
      "source": [
        "import numpy as np\n",
        "import tensorflow as tf"
      ],
      "execution_count": 0,
      "outputs": []
    },
    {
      "cell_type": "code",
      "metadata": {
        "id": "NKbklD_Xnk8_",
        "colab_type": "code",
        "colab": {}
      },
      "source": [
        "import pytorch "
      ],
      "execution_count": 0,
      "outputs": []
    }
  ]
}